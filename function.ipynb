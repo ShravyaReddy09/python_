{
 "cells": [
  {
   "cell_type": "code",
   "execution_count": 2,
   "metadata": {},
   "outputs": [
    {
     "name": "stdout",
     "output_type": "stream",
     "text": [
      "phyTHON\n"
     ]
    }
   ],
   "source": [
    "# function without arg & without retun\n",
    "\n",
    "def swapcase():\n",
    "    st=\"PHYthon\"\n",
    "    res=\"\"\n",
    "    for i in st:\n",
    "        if 'A'<=i<='Z':\n",
    "            res+=chr(ord(i)+32)\n",
    "        elif 'a'<=i<='z':\n",
    "            res+=chr(ord(i)-32)\n",
    "        else:\n",
    "            res+=i\n",
    "    print(res)\n",
    "swapcase()"
   ]
  },
  {
   "cell_type": "code",
   "execution_count": 6,
   "metadata": {},
   "outputs": [
    {
     "name": "stdout",
     "output_type": "stream",
     "text": [
      "start\n",
      "<function sample at 0x00000178A5A222A0>\n",
      "stop\n"
     ]
    }
   ],
   "source": [
    "# 1. function name without () returns address\n",
    "\n",
    "print('start')\n",
    "def sample():\n",
    "    print(\"hai\")\n",
    "print(sample) #here sample()not kept only identifier used\n",
    "print(\"stop\")"
   ]
  },
  {
   "cell_type": "code",
   "execution_count": 4,
   "metadata": {},
   "outputs": [
    {
     "name": "stdout",
     "output_type": "stream",
     "text": [
      "hai\n",
      "None\n"
     ]
    }
   ],
   "source": [
    "# 2. function name with () returns none value\n",
    "\n",
    "def sample():\n",
    "    print(\"hai\")\n",
    "print(sample()) # here sample() used\n",
    "    \n",
    "\n",
    "\n",
    "\n"
   ]
  },
  {
   "cell_type": "code",
   "execution_count": 13,
   "metadata": {},
   "outputs": [
    {
     "name": "stdout",
     "output_type": "stream",
     "text": [
      "SHRAVYA REDDY123$\n"
     ]
    }
   ],
   "source": [
    "# 3. \n",
    "\n",
    "def upper():\n",
    "    st=\"SHRavya reddy123$\"\n",
    "    res=\"\"\n",
    "    for i in st:\n",
    "        if 'a'<=i<='z':\n",
    "            res+=chr(ord(i)-32)\n",
    "        else:\n",
    "            res+=i\n",
    "    print (res)\n",
    "upper()\n"
   ]
  },
  {
   "cell_type": "code",
   "execution_count": 7,
   "metadata": {},
   "outputs": [
    {
     "name": "stdout",
     "output_type": "stream",
     "text": [
      "6\n",
      "None\n"
     ]
    }
   ],
   "source": [
    "# function with args & without return statement\n",
    "\n",
    "def demo(a,b):\n",
    "    c=a*b\n",
    "    print(c)\n",
    "print(demo(2,3))"
   ]
  },
  {
   "cell_type": "code",
   "execution_count": 9,
   "metadata": {},
   "outputs": [
    {
     "ename": "TypeError",
     "evalue": "demo() missing 2 required positional arguments: 'a' and 'b'",
     "output_type": "error",
     "traceback": [
      "\u001b[1;31m---------------------------------------------------------------------------\u001b[0m",
      "\u001b[1;31mTypeError\u001b[0m                                 Traceback (most recent call last)",
      "\u001b[1;32mc:\\Users\\sravya\\Desktop\\github python\\python\\function.ipynb Cell 5\u001b[0m line \u001b[0;36m6\n\u001b[0;32m      <a href='vscode-notebook-cell:/c%3A/Users/sravya/Desktop/github%20python/python/function.ipynb#W4sZmlsZQ%3D%3D?line=3'>4</a>\u001b[0m     c\u001b[39m=\u001b[39ma\u001b[39m+\u001b[39mb\n\u001b[0;32m      <a href='vscode-notebook-cell:/c%3A/Users/sravya/Desktop/github%20python/python/function.ipynb#W4sZmlsZQ%3D%3D?line=4'>5</a>\u001b[0m     \u001b[39mprint\u001b[39m(c)\n\u001b[1;32m----> <a href='vscode-notebook-cell:/c%3A/Users/sravya/Desktop/github%20python/python/function.ipynb#W4sZmlsZQ%3D%3D?line=5'>6</a>\u001b[0m \u001b[39mprint\u001b[39m(demo())\n",
      "\u001b[1;31mTypeError\u001b[0m: demo() missing 2 required positional arguments: 'a' and 'b'"
     ]
    }
   ],
   "source": [
    "# 1. without passing args in fun call gives error\n",
    "\n",
    "def demo(a,b):  # declaring variable\n",
    "    c=a+b\n",
    "    print(c)\n",
    "print(demo())"
   ]
  },
  {
   "cell_type": "code",
   "execution_count": 11,
   "metadata": {},
   "outputs": [
    {
     "name": "stdout",
     "output_type": "stream",
     "text": [
      "50\n"
     ]
    }
   ],
   "source": [
    "# 2. intializing args \n",
    "\n",
    "def sample(a=10,b=5): # intialized\n",
    "    c=a*b\n",
    "    print(c)\n",
    "sample()          # not passed any value here"
   ]
  },
  {
   "cell_type": "code",
   "execution_count": 1,
   "metadata": {},
   "outputs": [
    {
     "name": "stdout",
     "output_type": "stream",
     "text": [
      "72\n"
     ]
    }
   ],
   "source": [
    "# 3. initializing args & also passing values in fun call\n",
    "\n",
    "def demo(a=2,b=3):\n",
    "    c=a*b\n",
    "    print(c)\n",
    "demo(8,9)          # here passed valued are updated by overriding the new values"
   ]
  },
  {
   "cell_type": "code",
   "execution_count": 2,
   "metadata": {},
   "outputs": [
    {
     "name": "stdout",
     "output_type": "stream",
     "text": [
      "24\n"
     ]
    }
   ],
   "source": [
    "# 4. initializing args & also passing only one value\n",
    "\n",
    "def demo(a=2,b=3):\n",
    "    c=a*b\n",
    "    print(c)\n",
    "demo(8)        # here by defaultly a value is overrided to only 'a',it will not take to b defaultly"
   ]
  },
  {
   "cell_type": "code",
   "execution_count": 3,
   "metadata": {},
   "outputs": [
    {
     "name": "stdout",
     "output_type": "stream",
     "text": [
      "110\n"
     ]
    }
   ],
   "source": [
    "# 5.initializing args & also passing only one value\n",
    "\n",
    "def demo(a=2,b=3):\n",
    "    c=a*b\n",
    "    print(c)\n",
    "demo(b=55)    # passed value to only 'b'"
   ]
  },
  {
   "cell_type": "code",
   "execution_count": 18,
   "metadata": {},
   "outputs": [
    {
     "ename": "TypeError",
     "evalue": "upper() missing 1 required positional argument: 'res'",
     "output_type": "error",
     "traceback": [
      "\u001b[1;31m---------------------------------------------------------------------------\u001b[0m",
      "\u001b[1;31mTypeError\u001b[0m                                 Traceback (most recent call last)",
      "\u001b[1;32mc:\\Users\\sravya\\Desktop\\github python\\python\\function.ipynb Cell 11\u001b[0m line \u001b[0;36m1\n\u001b[0;32m     <a href='vscode-notebook-cell:/c%3A/Users/sravya/Desktop/github%20python/python/function.ipynb#X20sZmlsZQ%3D%3D?line=10'>11</a>\u001b[0m             res\u001b[39m+\u001b[39m\u001b[39m=\u001b[39mi\n\u001b[0;32m     <a href='vscode-notebook-cell:/c%3A/Users/sravya/Desktop/github%20python/python/function.ipynb#X20sZmlsZQ%3D%3D?line=11'>12</a>\u001b[0m     \u001b[39mprint\u001b[39m(res)\n\u001b[1;32m---> <a href='vscode-notebook-cell:/c%3A/Users/sravya/Desktop/github%20python/python/function.ipynb#X20sZmlsZQ%3D%3D?line=12'>13</a>\u001b[0m upper(res)\n",
      "\u001b[1;31mTypeError\u001b[0m: upper() missing 1 required positional argument: 'res'"
     ]
    }
   ],
   "source": [
    "# 5.\n",
    "\n",
    "\n",
    "x=\"hello HAI12#$\"\n",
    "def upper(st,res):\n",
    "    res=\"\"\n",
    "    for i in st:\n",
    "        if 'a'<=i<='z':\n",
    "            res+=chr(ord(i)-32)\n",
    "        else:\n",
    "            res+=i\n",
    "    print(res)\n",
    "upper(res)"
   ]
  },
  {
   "cell_type": "code",
   "execution_count": 4,
   "metadata": {},
   "outputs": [
    {
     "name": "stdout",
     "output_type": "stream",
     "text": [
      "0\n"
     ]
    }
   ],
   "source": [
    "# 1.fun without arg & with return statement\n",
    "\n",
    "def mod():\n",
    "    a=2\n",
    "    b=10\n",
    "    c=b%a          # remainder=0\n",
    "    return c         # with return\n",
    "print(mod())"
   ]
  },
  {
   "cell_type": "code",
   "execution_count": 5,
   "metadata": {},
   "outputs": [
    {
     "name": "stdout",
     "output_type": "stream",
     "text": [
      "1\n",
      "11\n"
     ]
    }
   ],
   "source": [
    "# 2.\n",
    "\n",
    "def mod():\n",
    "    a=2\n",
    "    b=9\n",
    "    c=b%a         # remainder=1\n",
    "    return c\n",
    "res=mod()\n",
    "print(res)\n",
    "res+=10           # (rem)1+10=11\n",
    "print(res)"
   ]
  },
  {
   "cell_type": "code",
   "execution_count": 7,
   "metadata": {},
   "outputs": [
    {
     "data": {
      "text/plain": [
       "50"
      ]
     },
     "execution_count": 7,
     "metadata": {},
     "output_type": "execute_result"
    }
   ],
   "source": [
    "#  fun with arg & with return statement\n",
    "\n",
    "def mul(a,b):      # with argument\n",
    "    c=a*b\n",
    "    return c        #with return\n",
    "mul(10,5)"
   ]
  },
  {
   "cell_type": "code",
   "execution_count": 11,
   "metadata": {},
   "outputs": [
    {
     "name": "stdout",
     "output_type": "stream",
     "text": [
      "HELLO WORLD123$#@\n",
      "I LOVE INDIA\n"
     ]
    }
   ],
   "source": [
    "# 1.\n",
    "\n",
    "x=\"hello WORLD123$#@\"\n",
    "def upper(st):            # here st is a variable which stores 'x' value\n",
    "    res=\"\"\n",
    "    for i in st:\n",
    "        if 'a'<=i<='z':\n",
    "            res+=chr(ord(i)-32)\n",
    "        else:\n",
    "            res+=i\n",
    "    return res\n",
    "print(upper(x))\n",
    "temp=upper(\"i love india\")       #if we want multiple o/p we can store like this\n",
    "print(temp)      "
   ]
  }
 ],
 "metadata": {
  "kernelspec": {
   "display_name": "Python 3",
   "language": "python",
   "name": "python3"
  },
  "language_info": {
   "codemirror_mode": {
    "name": "ipython",
    "version": 3
   },
   "file_extension": ".py",
   "mimetype": "text/x-python",
   "name": "python",
   "nbconvert_exporter": "python",
   "pygments_lexer": "ipython3",
   "version": "3.11.4"
  },
  "orig_nbformat": 4
 },
 "nbformat": 4,
 "nbformat_minor": 2
}
