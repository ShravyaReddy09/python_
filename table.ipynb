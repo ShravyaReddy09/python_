{
 "cells": [
  {
   "cell_type": "code",
   "execution_count": 5,
   "metadata": {},
   "outputs": [
    {
     "name": "stdout",
     "output_type": "stream",
     "text": [
      "<sqlite3.Connection object at 0x0000022955481B70>\n",
      "<sqlite3.Cursor object at 0x000002295547E3C0>\n"
     ]
    },
    {
     "ename": "OperationalError",
     "evalue": "table employee already exists",
     "output_type": "error",
     "traceback": [
      "\u001b[1;31m---------------------------------------------------------------------------\u001b[0m",
      "\u001b[1;31mOperationalError\u001b[0m                          Traceback (most recent call last)",
      "\u001b[1;32mc:\\Users\\sravya\\Desktop\\github python\\python\\table.ipynb Cell 1\u001b[0m line \u001b[0;36m6\n\u001b[0;32m      <a href='vscode-notebook-cell:/c%3A/Users/sravya/Desktop/github%20python/python/table.ipynb#W0sZmlsZQ%3D%3D?line=3'>4</a>\u001b[0m cur\u001b[39m=\u001b[39mdb\u001b[39m.\u001b[39mcursor()\n\u001b[0;32m      <a href='vscode-notebook-cell:/c%3A/Users/sravya/Desktop/github%20python/python/table.ipynb#W0sZmlsZQ%3D%3D?line=4'>5</a>\u001b[0m \u001b[39mprint\u001b[39m(cur)\n\u001b[1;32m----> <a href='vscode-notebook-cell:/c%3A/Users/sravya/Desktop/github%20python/python/table.ipynb#W0sZmlsZQ%3D%3D?line=5'>6</a>\u001b[0m cur\u001b[39m.\u001b[39;49mexecute(\u001b[39m\"\u001b[39;49m\u001b[39mcreate table employee(id int,name varchar(20))\u001b[39;49m\u001b[39m\"\u001b[39;49m)\n\u001b[0;32m      <a href='vscode-notebook-cell:/c%3A/Users/sravya/Desktop/github%20python/python/table.ipynb#W0sZmlsZQ%3D%3D?line=6'>7</a>\u001b[0m \u001b[39m# cur.executemany(\"create table deparment(did int,dname varchar(20),dadd varchar(30)\",\u001b[39;00m\n\u001b[0;32m      <a href='vscode-notebook-cell:/c%3A/Users/sravya/Desktop/github%20python/python/table.ipynb#W0sZmlsZQ%3D%3D?line=7'>8</a>\u001b[0m \u001b[39m#                 \"create table student(sroll int,sname varchar(30),sphone int(10))\")\u001b[39;00m\n\u001b[0;32m      <a href='vscode-notebook-cell:/c%3A/Users/sravya/Desktop/github%20python/python/table.ipynb#W0sZmlsZQ%3D%3D?line=8'>9</a>\u001b[0m cur\u001b[39m.\u001b[39mfetchall()\n",
      "\u001b[1;31mOperationalError\u001b[0m: table employee already exists"
     ]
    }
   ],
   "source": [
    "import sqlite3 as sq\n",
    "db=sq.connect('employee.db')\n",
    "print(db)\n",
    "cur=db.cursor()\n",
    "print(cur)\n",
    "cur.execute(\"create table employee(id int,name varchar(20))\")\n",
    "# cur.executemany(\"create table deparment(did int,dname varchar(20),dadd varchar(30)\",\n",
    "#                 \"create table student(sroll int,sname varchar(30),sphone int(10))\")\n",
    "cur.fetchall()\n",
    "# cur.fetchone()\n",
    "# cur.fetchmany()\n",
    "# db.commit()\n",
    "db.close()\n"
   ]
  },
  {
   "cell_type": "code",
   "execution_count": 6,
   "metadata": {},
   "outputs": [],
   "source": [
    "# configuration\n",
    "\n",
    "db=sq.connect('student.sqlite3')\n",
    "cur=db.cursor()"
   ]
  },
  {
   "cell_type": "code",
   "execution_count": 8,
   "metadata": {},
   "outputs": [
    {
     "ename": "OperationalError",
     "evalue": "table student already exists",
     "output_type": "error",
     "traceback": [
      "\u001b[1;31m---------------------------------------------------------------------------\u001b[0m",
      "\u001b[1;31mOperationalError\u001b[0m                          Traceback (most recent call last)",
      "\u001b[1;32mc:\\Users\\sravya\\Desktop\\github python\\python\\table.ipynb Cell 3\u001b[0m line \u001b[0;36m9\n\u001b[0;32m      <a href='vscode-notebook-cell:/c%3A/Users/sravya/Desktop/github%20python/python/table.ipynb#W2sZmlsZQ%3D%3D?line=0'>1</a>\u001b[0m query\u001b[39m=\u001b[39m\u001b[39m'''\u001b[39m\u001b[39mcreate table student(\u001b[39m\n\u001b[0;32m      <a href='vscode-notebook-cell:/c%3A/Users/sravya/Desktop/github%20python/python/table.ipynb#W2sZmlsZQ%3D%3D?line=1'>2</a>\u001b[0m \u001b[39msid int primary key,\u001b[39m\n\u001b[0;32m      <a href='vscode-notebook-cell:/c%3A/Users/sravya/Desktop/github%20python/python/table.ipynb#W2sZmlsZQ%3D%3D?line=2'>3</a>\u001b[0m \u001b[39msname varchar(30),\u001b[39m\n\u001b[1;32m   (...)\u001b[0m\n\u001b[0;32m      <a href='vscode-notebook-cell:/c%3A/Users/sravya/Desktop/github%20python/python/table.ipynb#W2sZmlsZQ%3D%3D?line=6'>7</a>\u001b[0m \u001b[39mmarks int,\u001b[39m\n\u001b[0;32m      <a href='vscode-notebook-cell:/c%3A/Users/sravya/Desktop/github%20python/python/table.ipynb#W2sZmlsZQ%3D%3D?line=7'>8</a>\u001b[0m \u001b[39maddress varchar(40))\u001b[39m\u001b[39m'''\u001b[39m\n\u001b[1;32m----> <a href='vscode-notebook-cell:/c%3A/Users/sravya/Desktop/github%20python/python/table.ipynb#W2sZmlsZQ%3D%3D?line=8'>9</a>\u001b[0m cur\u001b[39m.\u001b[39;49mexecute(query)\n\u001b[0;32m     <a href='vscode-notebook-cell:/c%3A/Users/sravya/Desktop/github%20python/python/table.ipynb#W2sZmlsZQ%3D%3D?line=9'>10</a>\u001b[0m \u001b[39mprint\u001b[39m(cur\u001b[39m.\u001b[39mrowcount,\u001b[39m'\u001b[39m\u001b[39mrow created\u001b[39m\u001b[39m'\u001b[39m)\n",
      "\u001b[1;31mOperationalError\u001b[0m: table student already exists"
     ]
    }
   ],
   "source": [
    "query='''create table student(\n",
    "sid int primary key,\n",
    "sname varchar(30),\n",
    "age int,\n",
    "phone bigint unique,\n",
    "email varchar(30),\n",
    "marks int,\n",
    "address varchar(40))'''\n",
    "cur.execute(query)\n",
    "print(cur.rowcount,'row created')"
   ]
  },
  {
   "cell_type": "code",
   "execution_count": 9,
   "metadata": {},
   "outputs": [],
   "source": [
    "db.commit()"
   ]
  },
  {
   "cell_type": "code",
   "execution_count": 10,
   "metadata": {},
   "outputs": [
    {
     "ename": "IntegrityError",
     "evalue": "UNIQUE constraint failed: student.phone",
     "output_type": "error",
     "traceback": [
      "\u001b[1;31m---------------------------------------------------------------------------\u001b[0m",
      "\u001b[1;31mIntegrityError\u001b[0m                            Traceback (most recent call last)",
      "\u001b[1;32mc:\\Users\\sravya\\Desktop\\github python\\python\\table.ipynb Cell 5\u001b[0m line \u001b[0;36m3\n\u001b[0;32m      <a href='vscode-notebook-cell:/c%3A/Users/sravya/Desktop/github%20python/python/table.ipynb#W4sZmlsZQ%3D%3D?line=0'>1</a>\u001b[0m query\u001b[39m=\u001b[39m\u001b[39m'''\u001b[39m\u001b[39minsert into student(sid,sname,age,phone,email,marks,address)\u001b[39m\n\u001b[0;32m      <a href='vscode-notebook-cell:/c%3A/Users/sravya/Desktop/github%20python/python/table.ipynb#W4sZmlsZQ%3D%3D?line=1'>2</a>\u001b[0m \u001b[39mvalues(408,\u001b[39m\u001b[39m'\u001b[39m\u001b[39mshravs\u001b[39m\u001b[39m'\u001b[39m\u001b[39m,21,9988776655,\u001b[39m\u001b[39m'\u001b[39m\u001b[39mshravs@gmail.com\u001b[39m\u001b[39m'\u001b[39m\u001b[39m,92,\u001b[39m\u001b[39m'\u001b[39m\u001b[39mhyd\u001b[39m\u001b[39m'\u001b[39m\u001b[39m)\u001b[39m\u001b[39m'''\u001b[39m\n\u001b[1;32m----> <a href='vscode-notebook-cell:/c%3A/Users/sravya/Desktop/github%20python/python/table.ipynb#W4sZmlsZQ%3D%3D?line=2'>3</a>\u001b[0m cur\u001b[39m.\u001b[39;49mexecute(query)\n\u001b[0;32m      <a href='vscode-notebook-cell:/c%3A/Users/sravya/Desktop/github%20python/python/table.ipynb#W4sZmlsZQ%3D%3D?line=3'>4</a>\u001b[0m \u001b[39mprint\u001b[39m(cur\u001b[39m.\u001b[39mrowcount,\u001b[39m\"\u001b[39m\u001b[39mrow created\u001b[39m\u001b[39m\"\u001b[39m)\n\u001b[0;32m      <a href='vscode-notebook-cell:/c%3A/Users/sravya/Desktop/github%20python/python/table.ipynb#W4sZmlsZQ%3D%3D?line=4'>5</a>\u001b[0m db\u001b[39m.\u001b[39mcommit()\n",
      "\u001b[1;31mIntegrityError\u001b[0m: UNIQUE constraint failed: student.phone"
     ]
    }
   ],
   "source": [
    "query='''insert into student(sid,sname,age,phone,email,marks,address)\n",
    "values(408,'shravs',21,9988776655,'shravs@gmail.com',92,'hyd')'''\n",
    "cur.execute(query)\n",
    "print(cur.rowcount,\"row created\")\n",
    "db.commit()"
   ]
  },
  {
   "cell_type": "code",
   "execution_count": 11,
   "metadata": {},
   "outputs": [
    {
     "name": "stdout",
     "output_type": "stream",
     "text": [
      "(408, 'shravs', 21, 9988776655, 'shravs@gmail.com', 92, 'hyd')\n"
     ]
    }
   ],
   "source": [
    "query='''select * from student'''\n",
    "cur.execute(query)\n",
    "res=cur.fetchall()\n",
    "for i in res:\n",
    "    print(i)\n",
    "\n"
   ]
  },
  {
   "cell_type": "code",
   "execution_count": 13,
   "metadata": {},
   "outputs": [
    {
     "name": "stdout",
     "output_type": "stream",
     "text": [
      "1 row updated\n"
     ]
    }
   ],
   "source": [
    "query='''update student set email='sunnyreddy@gmail.com'where sid=408'''\n",
    "cur.execute(query)\n",
    "print(cur.rowcount,\"row updated\")"
   ]
  }
 ],
 "metadata": {
  "kernelspec": {
   "display_name": "Python 3",
   "language": "python",
   "name": "python3"
  },
  "language_info": {
   "codemirror_mode": {
    "name": "ipython",
    "version": 3
   },
   "file_extension": ".py",
   "mimetype": "text/x-python",
   "name": "python",
   "nbconvert_exporter": "python",
   "pygments_lexer": "ipython3",
   "version": "3.11.4"
  }
 },
 "nbformat": 4,
 "nbformat_minor": 2
}
