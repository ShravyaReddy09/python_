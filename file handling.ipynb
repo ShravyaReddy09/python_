{
 "cells": [
  {
   "cell_type": "code",
   "execution_count": 29,
   "metadata": {},
   "outputs": [
    {
     "name": "stdout",
     "output_type": "stream",
     "text": [
      "0\n",
      "21\n",
      "0\n",
      "shravs you are unique\n",
      "21\n"
     ]
    }
   ],
   "source": [
    "# write+read\n",
    "\n",
    "\n",
    "fp=open('file.txt','w+')\n",
    "print(fp.tell())\n",
    "fp.write(\"shravs you are unique\")\n",
    "print(fp.tell())\n",
    "fp.seek(0)\n",
    "print(fp.tell())\n",
    "res=fp.read()\n",
    "print(res)\n",
    "print(fp.tell())\n",
    "fp.close()\n"
   ]
  },
  {
   "cell_type": "code",
   "execution_count": 31,
   "metadata": {},
   "outputs": [
    {
     "name": "stdout",
     "output_type": "stream",
     "text": [
      "0\n",
      "shravs you are uniqueand very special\n",
      "37\n",
      "shravs you are uniqueand very specialand very special\n",
      "53\n"
     ]
    }
   ],
   "source": [
    "#read+append\n",
    "\n",
    "fp=open('file.txt','r+')\n",
    "print(fp.tell())\n",
    "res=fp.read()\n",
    "print(res)\n",
    "print(fp.tell())\n",
    "fp.write(\"and very special\")\n",
    "\n",
    "fp.seek(0)\n",
    "res=fp.read()\n",
    "print(res)\n",
    "print(fp.tell())\n",
    "fp.close()\n"
   ]
  },
  {
   "cell_type": "code",
   "execution_count": null,
   "metadata": {},
   "outputs": [],
   "source": [
    "#append+read\n",
    "\n",
    "fp=open('file.txt','a+')"
   ]
  }
 ],
 "metadata": {
  "kernelspec": {
   "display_name": "Python 3",
   "language": "python",
   "name": "python3"
  },
  "language_info": {
   "codemirror_mode": {
    "name": "ipython",
    "version": 3
   },
   "file_extension": ".py",
   "mimetype": "text/x-python",
   "name": "python",
   "nbconvert_exporter": "python",
   "pygments_lexer": "ipython3",
   "version": "3.11.4"
  }
 },
 "nbformat": 4,
 "nbformat_minor": 2
}
