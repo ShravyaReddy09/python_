{
 "cells": [
  {
   "cell_type": "code",
   "execution_count": 4,
   "metadata": {},
   "outputs": [
    {
     "data": {
      "text/plain": [
       "'HGMG'"
      ]
     },
     "execution_count": 4,
     "metadata": {},
     "output_type": "execute_result"
    }
   ],
   "source": [
    "s=\"Hello Good Morning Guru1234\"\n",
    "def upper():\n",
    "    res=''\n",
    "    for i in s:\n",
    "        if 'A'<=i<='Z':\n",
    "            res+=i\n",
    "    return res\n",
    "upper()"
   ]
  },
  {
   "cell_type": "code",
   "execution_count": 27,
   "metadata": {},
   "outputs": [
    {
     "name": "stdout",
     "output_type": "stream",
     "text": [
      "HGMG\n",
      "ellooodeeorningurueehh\n",
      "1234\n",
      "_@,_\n",
      "['e', 'e', 'e', 'e', 'e']\n",
      "[' ', ' ', ' ', ' ', ' ', ' ']\n"
     ]
    }
   ],
   "source": [
    "import re\n",
    "s=\"_Hello @Good ee,Morn ing _Guru 1234 eehh\"\n",
    "res=re.findall(\"[A-Z]\",s)\n",
    "print(\"\".join(res))\n",
    "\n",
    "res=re.findall('[a-z]',s)\n",
    "print(\"\".join(res))\n",
    "\n",
    "res=re.findall('[0-9]',s)\n",
    "print(\"\".join(res))\n",
    "\n",
    "res=re.findall('[@,#,$,&,*,,,.,_]',s)\n",
    "print(\"\".join(res))\n",
    "\n",
    "res=re.findall(\"e\",s)\n",
    "print(res)\n",
    "# print(\"\".join(res))\n",
    "\n",
    "res=re.findall(\" \",s)\n",
    "print(res)"
   ]
  },
  {
   "cell_type": "code",
   "execution_count": 46,
   "metadata": {},
   "outputs": [
    {
     "name": "stdout",
     "output_type": "stream",
     "text": [
      "<re.Match object; span=(0, 4), match='haii'>\n",
      "<re.Match object; span=(17, 20), match='are'>\n",
      "<re.Match object; span=(27, 32), match='23243'>\n",
      "['', 'aii ', 'ello w', 'ere are u', '', '', '', ' 23243 bye']\n",
      "['haii h', 'llo wh', 'r', ' ar', ' uhhhh 23243 by', '']\n",
      "haii hello where r uhhhh 23243 bye\n",
      "haii hello where are youu 23243 bye\n"
     ]
    }
   ],
   "source": [
    "import re\n",
    "v=\"haii hello where are uhhhh 23243 bye\"\n",
    "res=re.search(\"haii\",v)\n",
    "print(res)\n",
    "\n",
    "res=re.search('are',v)\n",
    "print(res)\n",
    "\n",
    "res=re.search(\"23243\",v)\n",
    "print(res)\n",
    "\n",
    "res=re.split('h',v)\n",
    "print(res)\n",
    "\n",
    "res=re.split('e',v)\n",
    "print(res)\n",
    "\n",
    "res=re.sub('are','r',v)\n",
    "print(res)\n",
    "\n",
    "res=re.sub('uhhhh','youu',v)\n",
    "print(res)"
   ]
  },
  {
   "cell_type": "code",
   "execution_count": 52,
   "metadata": {},
   "outputs": [
    {
     "name": "stdout",
     "output_type": "stream",
     "text": [
      "['p']\n"
     ]
    }
   ],
   "source": [
    "#^\n",
    "\n",
    "import re\n",
    "s=\"python trainer is mahanth sir\"\n",
    "res=re.findall(\"^p\",s)                #pattern should be at begining only\n",
    "print(res)"
   ]
  },
  {
   "cell_type": "code",
   "execution_count": 49,
   "metadata": {},
   "outputs": [
    {
     "name": "stdout",
     "output_type": "stream",
     "text": [
      "[]\n"
     ]
    }
   ],
   "source": [
    "#^\n",
    "import re\n",
    "s=\"python trainer is mahanth sir\"\n",
    "res=re.findall(\"^mahnth\",s)                #pattern should be at begining only otherwise it returns empty\n",
    "print(res)"
   ]
  },
  {
   "cell_type": "code",
   "execution_count": 51,
   "metadata": {},
   "outputs": [
    {
     "name": "stdout",
     "output_type": "stream",
     "text": [
      "['python']\n"
     ]
    }
   ],
   "source": [
    "#^\n",
    "import re\n",
    "s=\"python trainer is mahanth sir\"\n",
    "res=re.findall(\"^python\",s)                #pattern should be at begining only\n",
    "print(res)"
   ]
  },
  {
   "cell_type": "code",
   "execution_count": 80,
   "metadata": {},
   "outputs": [
    {
     "name": "stdout",
     "output_type": "stream",
     "text": [
      "['dancer']\n",
      "['r']\n",
      "[]\n"
     ]
    }
   ],
   "source": [
    "#$-->pattern should be at the end\n",
    "import re\n",
    "s=\"geetha is a good dancer\"\n",
    "res=re.findall(\"dancer$\",s)                \n",
    "print(res)\n",
    "\n",
    "res=re.findall('r$',s)\n",
    "print(res)\n",
    "\n",
    "res=re.findall('Dancer$',s)\n",
    "print(res)"
   ]
  },
  {
   "cell_type": "code",
   "execution_count": 98,
   "metadata": {},
   "outputs": [
    {
     "name": "stdout",
     "output_type": "stream",
     "text": [
      "['my']\n",
      "['favorate']\n",
      "[]\n",
      "['121', '141']\n",
      "['34', '34']\n"
     ]
    }
   ],
   "source": [
    "#.--->matches with the given string and returns\n",
    "\n",
    "import re\n",
    "v=\"my favorate color is black 121 141 234 534\"\n",
    "res=re.findall('m.',v)\n",
    "print(res)\n",
    "\n",
    "res=re.findall('favora.e',v)       #it will give only 2 characters if we mention one 1 character with dot\n",
    "print(res)                         #if we want total word we should write like this\n",
    "\n",
    "res=re.findall('favo.e',v)\n",
    "print(res)   \n",
    "\n",
    "res=re.findall('1.1',v)      #if we want more than 2 character we should mention the last character after dot\n",
    "print(res)\n",
    "\n",
    "res=re.findall('3.',v)\n",
    "print(res)"
   ]
  },
  {
   "cell_type": "code",
   "execution_count": 102,
   "metadata": {},
   "outputs": [
    {
     "name": "stdout",
     "output_type": "stream",
     "text": [
      "['H', 'B', 'Y', 'A', 'F', 'F', 'O', 'R']\n",
      "['y', 'd', 'e', 'r', 'b', 'a', 'd', 'i', 'r', 'n', 'i', 'i', 's', 'a', 'm', 'o', 'u', 's', 'p', 'l', 't', 'e']\n",
      "['4', '5', '9', '8', '5']\n",
      "['e', 'a', 'i', 'A', 'i', 'i', 'a', 'o', 'u', 'O', 'e']\n",
      "['H', 'y', 'd', 'r', 'b', 'd', '4', '5', ' ', 'B', 'r', 'Y', 'n', '9', '8', ' ', 's', ' ', 'F', 'm', 's', ' ', 'F', 'R', ' ', '5', ' ', 'p', 'l', '@', 't']\n"
     ]
    }
   ],
   "source": [
    "#[]--->it segregates the characters in list format including spaces\n",
    "\n",
    "import re\n",
    "s=\"Hyderbad45 BirYAni98 is Famous FOR 5 pl@te\"\n",
    "res1=re.findall('[A-Z]',s)\n",
    "res2=re.findall('[a-z]',s)\n",
    "res3=re.findall('[0-9]',s)\n",
    "res4=re.findall('[aeiouAEIOU]',s)\n",
    "res5=re.findall('[^aeiouAEIOU]',s)\n",
    "print(res1)\n",
    "print(res2)\n",
    "print(res3)\n",
    "print(res4)\n",
    "print(res5)\n",
    "\n"
   ]
  },
  {
   "cell_type": "code",
   "execution_count": 106,
   "metadata": {},
   "outputs": [
    {
     "name": "stdout",
     "output_type": "stream",
     "text": [
      "['2', '0']\n"
     ]
    }
   ],
   "source": [
    "#\\d-->it will return only digits in list format\n",
    "\n",
    "import re\n",
    "d=\"shravya is 20 years old\"\n",
    "res=re.findall(\"\\d\",d)\n",
    "print(res)"
   ]
  },
  {
   "cell_type": "code",
   "execution_count": 105,
   "metadata": {},
   "outputs": [
    {
     "name": "stdout",
     "output_type": "stream",
     "text": [
      "['I', ' ', 'w', 'a', 'n', 't', '_', ' ', ' ', 'c', 'h', 'o', 'c', 'o', 'l', 'a', 't', 'e', 's', '@']\n"
     ]
    }
   ],
   "source": [
    "#\\D--->it will returns all characters except digits including spaces\n",
    "\n",
    "import re\n",
    "d=\"I want_ 200 chocolates@\"\n",
    "res=re.findall(\"\\D\",d)\n",
    "print(res)"
   ]
  },
  {
   "cell_type": "code",
   "execution_count": 108,
   "metadata": {},
   "outputs": [
    {
     "name": "stdout",
     "output_type": "stream",
     "text": [
      "['w', 'e', 'u', 's', 'e', 's', 'n', 'a', 'k', 'e', '_', 'c', 'a', 's', 'e', 'i', 'n', 'p', 'y', 't', 'h', 'o', 'n', '3', '1', '1']\n"
     ]
    }
   ],
   "source": [
    "#\\w-->it will return alphabets ,numbers& underscore in list format\n",
    "# not returnsspaces and special characters \n",
    "\n",
    "import re\n",
    "w=\"we use@ snake_case in python 3.11*\"\n",
    "res=re.findall(\"\\w\",w)\n",
    "print(res)"
   ]
  },
  {
   "cell_type": "code",
   "execution_count": 109,
   "metadata": {},
   "outputs": [
    {
     "name": "stdout",
     "output_type": "stream",
     "text": [
      "[' ', '@', ' ', ' ', ' ', ' ', '.', '*']\n"
     ]
    }
   ],
   "source": [
    "#\\W-->it will return spaces,apecial characters except underscore,alphabets and numbers\n",
    "\n",
    "import re\n",
    "w=w=\"we use@ snake_case in python 3.11*\"\n",
    "res=re.findall(\"\\W\",w)\n",
    "print(res)"
   ]
  },
  {
   "cell_type": "code",
   "execution_count": 110,
   "metadata": {},
   "outputs": [
    {
     "name": "stdout",
     "output_type": "stream",
     "text": [
      "[' ', ' ', ' ', ' ']\n"
     ]
    }
   ],
   "source": [
    "#\\s-->it will returns only spaces\n",
    "import re\n",
    "s=\"IT companies@ need freshers_ 87896\"\n",
    "res=re.findall(\"\\s\",s)\n",
    "print(res)"
   ]
  },
  {
   "cell_type": "code",
   "execution_count": 112,
   "metadata": {},
   "outputs": [
    {
     "name": "stdout",
     "output_type": "stream",
     "text": [
      "['I', 'T', 'c', 'o', 'm', 'p', 'a', 'n', 'i', 'e', 's', '@', 'n', 'e', 'e', 'd', 'f', 'r', 'e', 's', 'h', 'e', 'r', 's', '_', '8', '7', '8', '9', '6']\n"
     ]
    }
   ],
   "source": [
    "#\\S-->it will eleminate spaces\n",
    "\n",
    "import re\n",
    "s=\"IT companies@ need freshers_ 87896\"\n",
    "res=re.findall(\"\\S\",s)\n",
    "print(res)"
   ]
  },
  {
   "cell_type": "code",
   "execution_count": 115,
   "metadata": {},
   "outputs": [
    {
     "name": "stdout",
     "output_type": "stream",
     "text": [
      "['', '', '', '', '', '', '', '', '', '', '', '', '', '', '', '', '', 'a', '', '', '', '', '', '', '', '', '', '', '', '', '', '', '', '', '', '']\n"
     ]
    }
   ],
   "source": [
    "#?--->\n",
    "\n",
    "import re\n",
    "s=\"present students are future legends\"\n",
    "res=re.findall(\"a?\",s)\n",
    "print(res)"
   ]
  },
  {
   "cell_type": "code",
   "execution_count": 118,
   "metadata": {},
   "outputs": [
    {
     "name": "stdout",
     "output_type": "stream",
     "text": [
      "[('t', '5'), ('t', '4'), ('e', '7'), ('s', '9')]\n"
     ]
    }
   ],
   "source": [
    "#()-->combing the segregated chracters\n",
    "import re\n",
    "s=\"present5 student4 are@5 future7 legends9\"\n",
    "res=re.findall(\"(\\w)(\\d)\",s)\n",
    "print(res)"
   ]
  },
  {
   "cell_type": "code",
   "execution_count": 132,
   "metadata": {},
   "outputs": [
    {
     "name": "stdout",
     "output_type": "stream",
     "text": [
      "['', '', 'e', '', 'e', '', '', '', '', '', '', '', '', 'e', '', '', '', '', '', '', 'e', '', '', '', '', '', '', '', '', 'ee', '', '', '', 'e', '', 'ee', '', '', '', '', '']\n",
      "['e', 'e', 'e', 'e', 'ee', 'e', 'ee']\n"
     ]
    }
   ],
   "source": [
    "#*-->\n",
    "import re\n",
    "s=\"present5 student4 are@5 futuree7 legeends9\"\n",
    "res=re.findall(\"e*\",s)\n",
    "print(res)\n",
    "\n",
    "\n",
    "\n",
    "res=re.findall(\"ee*\",s)\n",
    "print(res)"
   ]
  },
  {
   "cell_type": "code",
   "execution_count": 135,
   "metadata": {},
   "outputs": [
    {
     "name": "stdout",
     "output_type": "stream",
     "text": [
      "12345\n",
      "12345\n",
      "12345\n",
      "12345\n",
      "12345\n"
     ]
    }
   ],
   "source": [
    "for i in range(1,6):\n",
    "    for j in range(1,6):\n",
    "        print(j,end=\"\")\n",
    "    print()"
   ]
  },
  {
   "cell_type": "code",
   "execution_count": 139,
   "metadata": {},
   "outputs": [
    {
     "name": "stdout",
     "output_type": "stream",
     "text": [
      "1\n",
      "12\n",
      "123\n",
      "1234\n",
      "12345\n"
     ]
    }
   ],
   "source": [
    "for i in range(1,6):\n",
    "    for j in range(1,i+1):\n",
    "        print(j,end=\"\")\n",
    "    print()\n"
   ]
  },
  {
   "cell_type": "code",
   "execution_count": 145,
   "metadata": {},
   "outputs": [
    {
     "name": "stdout",
     "output_type": "stream",
     "text": [
      "54321\n",
      "5432\n",
      "543\n",
      "54\n",
      "5\n"
     ]
    }
   ],
   "source": [
    "for i in range(1,6):\n",
    "    for j in range(5,i-1,-1):\n",
    "        print(j,end=\"\")\n",
    "    print()"
   ]
  },
  {
   "cell_type": "code",
   "execution_count": 150,
   "metadata": {},
   "outputs": [
    {
     "name": "stdout",
     "output_type": "stream",
     "text": [
      "*****\n",
      "****\n",
      "***\n",
      "**\n",
      "*\n"
     ]
    }
   ],
   "source": [
    "for i in range(1,6):\n",
    "    for j in range(5,i-1,-1):\n",
    "        print(\"*\",end=\"\")\n",
    "    print()"
   ]
  },
  {
   "cell_type": "code",
   "execution_count": 151,
   "metadata": {},
   "outputs": [
    {
     "name": "stdout",
     "output_type": "stream",
     "text": [
      "\n",
      "\n",
      "\n",
      "\n",
      "*****\n"
     ]
    }
   ],
   "source": [
    "for i in range(1,6):\n",
    "    if i==5:\n",
    "        for j in range(1,6):\n",
    "            print(\"*\",end=\"\")\n",
    "\n",
    "    print()"
   ]
  },
  {
   "cell_type": "code",
   "execution_count": 152,
   "metadata": {},
   "outputs": [
    {
     "name": "stdout",
     "output_type": "stream",
     "text": [
      "     \n",
      "     \n",
      "     \n",
      "     \n",
      "*****\n"
     ]
    }
   ],
   "source": [
    "for i in range(1,6):\n",
    "    for j in range(1,6):\n",
    "        if i==5:\n",
    "            print(\"*\",end=\"\")\n",
    "        else:\n",
    "            print(\" \",end=\"\")\n",
    "    print()"
   ]
  },
  {
   "cell_type": "code",
   "execution_count": 153,
   "metadata": {},
   "outputs": [
    {
     "name": "stdout",
     "output_type": "stream",
     "text": [
      "*****\n",
      "  *  \n",
      "  *  \n",
      "  *  \n",
      "  *  \n"
     ]
    }
   ],
   "source": [
    "for i in range(1,6):\n",
    "    for j in range(1,6):\n",
    "        if i==1 or j==3:\n",
    "            print(\"*\",end=\"\")\n",
    "        else:\n",
    "            print(\" \",end=\"\")\n",
    "    print()"
   ]
  },
  {
   "cell_type": "code",
   "execution_count": 154,
   "metadata": {},
   "outputs": [
    {
     "name": "stdout",
     "output_type": "stream",
     "text": [
      "*    \n",
      "*    \n",
      "*    \n",
      "*    \n",
      "*****\n"
     ]
    }
   ],
   "source": [
    "for i in range(1,6):\n",
    "    for j in range(1,6):\n",
    "        if i==5 or j==1:\n",
    "            print(\"*\",end=\"\")\n",
    "        else:\n",
    "            print(\" \",end=\"\")\n",
    "    print()"
   ]
  },
  {
   "cell_type": "code",
   "execution_count": 156,
   "metadata": {},
   "outputs": [
    {
     "name": "stdout",
     "output_type": "stream",
     "text": [
      "*****\n",
      "*   *\n",
      "*   *\n",
      "*   *\n",
      "*****\n"
     ]
    }
   ],
   "source": [
    "for i in range(1,6):\n",
    "    for j in range(1,6):\n",
    "        if i==1 or j==1 or i==5 or j==5:\n",
    "            print(\"*\",end=\"\")\n",
    "        else:\n",
    "            print(\" \",end=\"\")\n",
    "    print()"
   ]
  },
  {
   "cell_type": "code",
   "execution_count": 157,
   "metadata": {},
   "outputs": [
    {
     "name": "stdout",
     "output_type": "stream",
     "text": [
      "  *  \n",
      "  *  \n",
      "*****\n",
      "  *  \n",
      "  *  \n"
     ]
    }
   ],
   "source": [
    "for i in range(1,6):\n",
    "    for j in range(1,6):\n",
    "        if i==3 or j==3:\n",
    "            print(\"*\",end=\"\")\n",
    "        else:\n",
    "            print(\" \",end=\"\")\n",
    "    print()"
   ]
  },
  {
   "cell_type": "code",
   "execution_count": 165,
   "metadata": {},
   "outputs": [
    {
     "name": "stdout",
     "output_type": "stream",
     "text": [
      "*****\n",
      "***** ****  ***   **    *\n",
      "****\n",
      "***** ****  ***   **    *\n",
      "***\n",
      "***** ****  ***   **    *\n",
      "**\n",
      "***** ****  ***   **    *\n",
      "*\n",
      "***** ****  ***   **    *\n"
     ]
    }
   ],
   "source": [
    "for i in range(1,6):\n",
    "    for j in range(5,i-1,-1):\n",
    "        print(\"*\",end=\"\")\n",
    "    print()\n",
    "    for i in range(1,6):\n",
    "        for j in range(1,6):\n",
    "            if i<=j:\n",
    "                print(\"*\",end=\"\")\n",
    "            else:\n",
    "                print(\" \",end=\"\")\n",
    "    print()"
   ]
  }
 ],
 "metadata": {
  "kernelspec": {
   "display_name": "Python 3",
   "language": "python",
   "name": "python3"
  },
  "language_info": {
   "codemirror_mode": {
    "name": "ipython",
    "version": 3
   },
   "file_extension": ".py",
   "mimetype": "text/x-python",
   "name": "python",
   "nbconvert_exporter": "python",
   "pygments_lexer": "ipython3",
   "version": "3.11.4"
  }
 },
 "nbformat": 4,
 "nbformat_minor": 2
}
