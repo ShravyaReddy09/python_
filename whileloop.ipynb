{
 "cells": [
  {
   "cell_type": "code",
   "execution_count": 8,
   "metadata": {},
   "outputs": [
    {
     "name": "stdout",
     "output_type": "stream",
     "text": [
      "s\n",
      "h\n",
      "r\n",
      "a\n",
      "v\n",
      "y\n",
      "a\n"
     ]
    }
   ],
   "source": [
    "#items present in string b/w range from M to N\n",
    "\n",
    "st=\"shravya\"\n",
    "for i in range(0,len(st),1):\n",
    "    print(st[i])"
   ]
  },
  {
   "cell_type": "code",
   "execution_count": 13,
   "metadata": {},
   "outputs": [
    {
     "name": "stdout",
     "output_type": "stream",
     "text": [
      "P\n",
      "Y\n",
      "H\n",
      "O\n",
      "N\n"
     ]
    }
   ],
   "source": [
    "#upper case\n",
    "\n",
    "st=\"PhYtHON\"\n",
    "for i in st:\n",
    "    if 'A'<=i<='Z':\n",
    "        print(i)\n"
   ]
  },
  {
   "cell_type": "code",
   "execution_count": 17,
   "metadata": {},
   "outputs": [
    {
     "name": "stdout",
     "output_type": "stream",
     "text": [
      "p\n",
      "y\n",
      "h\n",
      "n\n"
     ]
    }
   ],
   "source": [
    "#lower case\n",
    "\n",
    "st=eval(input(\"enter the value:\"))\n",
    "for i in st:\n",
    "    if 'a'<=i<='z':\n",
    "        print(i)"
   ]
  },
  {
   "cell_type": "code",
   "execution_count": 29,
   "metadata": {},
   "outputs": [
    {
     "name": "stdout",
     "output_type": "stream",
     "text": [
      "115\n",
      "104\n",
      "114\n",
      "97\n",
      "118\n",
      "121\n",
      "97\n"
     ]
    }
   ],
   "source": [
    "# Ascii value for given string\n",
    "\n",
    "\n",
    "st=eval(input(\"enter the value:\"))\n",
    "for i in st:\n",
    "    res=ord(i)\n",
    "    print(res)\n",
    "\n"
   ]
  },
  {
   "cell_type": "code",
   "execution_count": 39,
   "metadata": {},
   "outputs": [
    {
     "name": "stdout",
     "output_type": "stream",
     "text": [
      "$\n",
      "@\n",
      "#\n"
     ]
    }
   ],
   "source": [
    "# special characters\n",
    "\n",
    "st=eval(input(\"enter the value:\"))\n",
    "for i in st:\n",
    "    if len(i)==1 and not ('A'<=i<='Z' or 'a'<=i<='z' or '0'<=i<='9'):\n",
    "        print(i)\n",
    "\n"
   ]
  },
  {
   "cell_type": "code",
   "execution_count": 42,
   "metadata": {},
   "outputs": [
    {
     "name": "stdout",
     "output_type": "stream",
     "text": [
      "a\n",
      "a\n",
      "i\n",
      "o\n"
     ]
    }
   ],
   "source": [
    "# vowels of given string\n",
    "\n",
    "st=eval(input(\"enter the value:\"))\n",
    "for i in st:\n",
    "    if i in ('AEIOUaeiou'):\n",
    "        print (i)"
   ]
  },
  {
   "cell_type": "code",
   "execution_count": 43,
   "metadata": {},
   "outputs": [
    {
     "name": "stdout",
     "output_type": "stream",
     "text": [
      "s\n",
      "h\n",
      "r\n",
      "v\n",
      "y\n"
     ]
    }
   ],
   "source": [
    "# consonants in given string\n",
    "\n",
    "st=eval(input(\"enter the value:\"))\n",
    "for i in st:\n",
    "    if i not in('AEIOUaeiou'):\n",
    "        print(i)"
   ]
  },
  {
   "cell_type": "code",
   "execution_count": 79,
   "metadata": {},
   "outputs": [
    {
     "name": "stdout",
     "output_type": "stream",
     "text": [
      "a\n",
      "y\n",
      "v\n",
      "a\n",
      "r\n",
      "h\n",
      "s\n"
     ]
    }
   ],
   "source": [
    "# reverse the given string\n",
    "\n",
    "st='shravya'\n",
    "for i in range(-1,-8,-1):\n",
    "    print(st[i])\n",
    "  \n",
    "   "
   ]
  },
  {
   "cell_type": "code",
   "execution_count": 83,
   "metadata": {},
   "outputs": [
    {
     "name": "stdout",
     "output_type": "stream",
     "text": [
      "s 0\n",
      "r 2\n",
      "v 4\n",
      "a 6\n"
     ]
    }
   ],
   "source": [
    "# even position characters from given string\n",
    "\n",
    "st=eval(input(\"enter the value:\"))\n",
    "for i in range(0,len(st),2):\n",
    "\n",
    "    print(st[i],i)\n",
    "\n",
    "\n"
   ]
  },
  {
   "cell_type": "code",
   "execution_count": 82,
   "metadata": {},
   "outputs": [
    {
     "name": "stdout",
     "output_type": "stream",
     "text": [
      "h 1\n",
      "a 3\n",
      "y 5\n"
     ]
    }
   ],
   "source": [
    "# odd position characters from given string\n",
    "\n",
    "st=eval(input(\"enter the value:\"))\n",
    "for i in range(1,len(st),2):\n",
    "    print(st[i],i)"
   ]
  },
  {
   "cell_type": "code",
   "execution_count": 70,
   "metadata": {},
   "outputs": [
    {
     "name": "stdout",
     "output_type": "stream",
     "text": [
      "16\n"
     ]
    }
   ],
   "source": [
    "# count no.of characters in given string with len function\n",
    "\n",
    "\n",
    "st='phytho programme'\n",
    "count=0\n",
    "for i in range(len(st)):\n",
    " count+=1\n",
    "print(count)"
   ]
  },
  {
   "cell_type": "code",
   "execution_count": 53,
   "metadata": {},
   "outputs": [
    {
     "name": "stdout",
     "output_type": "stream",
     "text": [
      "10\n"
     ]
    }
   ],
   "source": [
    "#count the total Number of characters in a given string.(without len function)\n",
    "\n",
    "\n",
    "st=eval(input(\"enter the value:\"))\n",
    "count=0\n",
    "for i in st:\n",
    "     count+=1\n",
    "print(count)\n",
    "\n",
    "   "
   ]
  },
  {
   "cell_type": "code",
   "execution_count": 62,
   "metadata": {},
   "outputs": [
    {
     "name": "stdout",
     "output_type": "stream",
     "text": [
      "6\n"
     ]
    }
   ],
   "source": [
    "# count alphabets in given string\n",
    "st='$hravya9480'\n",
    "count=0\n",
    "for i in st:\n",
    "    if i in 'A'<=I<='Z' or 'a'<=i<='z':\n",
    "        count+=1\n",
    "print(count)\n",
    "        \n",
    "\n",
    "\n"
   ]
  },
  {
   "cell_type": "code",
   "execution_count": 63,
   "metadata": {},
   "outputs": [
    {
     "name": "stdout",
     "output_type": "stream",
     "text": [
      "5\n"
     ]
    }
   ],
   "source": [
    "# count uppercase in given string\n",
    "\n",
    "st='SHRAVjwk09'\n",
    "count=0\n",
    "for i in st:\n",
    "    if  'A'<=i<='Z':\n",
    "        count+=1\n",
    "print(count)"
   ]
  },
  {
   "cell_type": "code",
   "execution_count": 65,
   "metadata": {},
   "outputs": [
    {
     "name": "stdout",
     "output_type": "stream",
     "text": [
      "4\n"
     ]
    }
   ],
   "source": [
    "#count lowercase from given string\n",
    "st='PHYthon'\n",
    "count=0\n",
    "for i in st:\n",
    "    if 'a'<=i<='z':\n",
    "        count+=1\n",
    "print(count)"
   ]
  },
  {
   "cell_type": "code",
   "execution_count": 66,
   "metadata": {},
   "outputs": [
    {
     "name": "stdout",
     "output_type": "stream",
     "text": [
      "6\n"
     ]
    }
   ],
   "source": [
    "# count no.of special symbols in given string\n",
    "\n",
    "st='$hr@vy@ RE&&'\n",
    "count=0\n",
    "for i in st:\n",
    "    if i not in 'A'<=i<='Z' or 'a'<=i<='z' or '0'<=i<='9' and len(i)==1:\n",
    "        count+=1\n",
    "print(count)"
   ]
  },
  {
   "cell_type": "code",
   "execution_count": 84,
   "metadata": {},
   "outputs": [
    {
     "name": "stdout",
     "output_type": "stream",
     "text": [
      "8\n",
      "7\n"
     ]
    }
   ],
   "source": [
    "# count uppercase and lowercase in a given string.\n",
    "st='ABCDEFGHijkmnop'\n",
    "upcount=0\n",
    "locount=0\n",
    "for i in st:\n",
    "    if 'A'<=i<='Z':\n",
    "        upcount+=1\n",
    "    elif 'a'<=i<='z':\n",
    "        locount+=1\n",
    "print(upcount)\n",
    "print(locount)"
   ]
  },
  {
   "cell_type": "code",
   "execution_count": 86,
   "metadata": {},
   "outputs": [
    {
     "name": "stdout",
     "output_type": "stream",
     "text": [
      "9\n"
     ]
    }
   ],
   "source": [
    "# count Number of ascii numbers in a given string.\n",
    "st='funny846525673'\n",
    "count=0\n",
    "for i in st:\n",
    "    if '0'<=i<='9':\n",
    "        count+=1\n",
    "print(count)    "
   ]
  },
  {
   "cell_type": "code",
   "execution_count": 89,
   "metadata": {},
   "outputs": [
    {
     "name": "stdout",
     "output_type": "stream",
     "text": [
      "8\n"
     ]
    }
   ],
   "source": [
    "# Count Total Number of Words in a String.\n",
    "st='shravya is a good girl and pretty girl'\n",
    "count=1\n",
    "for i in st:\n",
    "    if i==\" \":\n",
    "        count+=1\n",
    "print(count)\n"
   ]
  },
  {
   "cell_type": "code",
   "execution_count": 90,
   "metadata": {},
   "outputs": [
    {
     "name": "stdout",
     "output_type": "stream",
     "text": [
      "4\n"
     ]
    }
   ],
   "source": [
    "#  Count Total Number of spaces in a String.\n",
    "st='shravya is a good girl'\n",
    "count=0\n",
    "for i in st:\n",
    "    if i==\" \":\n",
    "        count+=1\n",
    "print(count)"
   ]
  },
  {
   "cell_type": "code",
   "execution_count": 92,
   "metadata": {},
   "outputs": [
    {
     "name": "stdout",
     "output_type": "stream",
     "text": [
      "4\n"
     ]
    }
   ],
   "source": [
    "#  Count Vowels in a String\n",
    "st='phython programming'\n",
    "count=0\n",
    "for i in st:\n",
    "    if i in'AEIOUaeiou':\n",
    "        count+=1\n",
    "print(count)\n"
   ]
  },
  {
   "cell_type": "code",
   "execution_count": 93,
   "metadata": {},
   "outputs": [
    {
     "name": "stdout",
     "output_type": "stream",
     "text": [
      "15\n"
     ]
    }
   ],
   "source": [
    "# Count consonants in a String\n",
    "st='phython programming'\n",
    "count=0\n",
    "for i in st:\n",
    "    if i not in 'AEIOUaeiou':\n",
    "        count+=1\n",
    "print(count)\n",
    "\n",
    "\n",
    "\n"
   ]
  },
  {
   "cell_type": "code",
   "execution_count": 94,
   "metadata": {},
   "outputs": [
    {
     "name": "stdout",
     "output_type": "stream",
     "text": [
      "4\n",
      "15\n"
     ]
    }
   ],
   "source": [
    "#  Count Vowels and Consonants in a String\n",
    "st='phython programming'\n",
    "vow=0\n",
    "con=0\n",
    "for i in st:\n",
    "    if i in 'AEIOUaeiou':\n",
    "        vow+=1\n",
    "    elif i not in 'AEIOUaeiou':\n",
    "        con+=1\n",
    "print(vow)\n",
    "print(con)\n",
    "\n"
   ]
  },
  {
   "cell_type": "code",
   "execution_count": 117,
   "metadata": {},
   "outputs": [
    {
     "name": "stdout",
     "output_type": "stream",
     "text": [
      "4\n"
     ]
    }
   ],
   "source": [
    "#  count Number of new lines in a given string.\n",
    "st='''Eat roam sleep njoy \n",
    "getup again eat again sleep\n",
    "scroll mobile see movies\n",
    "eat snacks roam after full tierd then slee'''\n",
    "count=0\n",
    "for i in st:\n",
    "    if i=='\\n':\n",
    "        count+=1\n",
    "print(count)\n"
   ]
  },
  {
   "cell_type": "code",
   "execution_count": 101,
   "metadata": {},
   "outputs": [
    {
     "name": "stdout",
     "output_type": "stream",
     "text": [
      "4\n"
     ]
    }
   ],
   "source": [
    "#  count Number of lines in a given string.\n",
    "st='''Eat roam sleep njoy \n",
    "getup again eat again sleep\n",
    "scroll mobile see movies\n",
    "eat snacks roam after full tierd then slee'''\n",
    "count=1\n",
    "for i in st:\n",
    "    if i=='\\n':\n",
    "        count+=1\n",
    "print(count)\n",
    "\n"
   ]
  },
  {
   "cell_type": "code",
   "execution_count": 113,
   "metadata": {},
   "outputs": [
    {
     "name": "stdout",
     "output_type": "stream",
     "text": [
      "7\n",
      "4\n",
      "7\n"
     ]
    }
   ],
   "source": [
    "# count no of alphabets, numbers, and special characters in a given STRING.\n",
    "st='$hr@vy@ r#&dy 0987'\n",
    "al=0\n",
    "num=0\n",
    "sp=0\n",
    "for i in st:\n",
    "    if 'A'<=i<='Z' or 'a'<=i<='z':\n",
    "        al+=1\n",
    "    elif '0'<=i<='9':\n",
    "        num+=1\n",
    "    elif not 'A'<=i<='Z' or 'a'<=i<='z' or '0'<=i<='9':\n",
    "        sp+=1\n",
    "print(al)\n",
    "print(num)\n",
    "print(sp)\n",
    "\n"
   ]
  },
  {
   "cell_type": "code",
   "execution_count": 3,
   "metadata": {},
   "outputs": [
    {
     "name": "stdout",
     "output_type": "stream",
     "text": [
      "7\n",
      "0\n"
     ]
    }
   ],
   "source": [
    "# Count Total no of words in a first line of the Doc String.\n",
    "st='''python is a programming language,\n",
    "high level language,\n",
    "interpreted language'''\n",
    "count=0\n",
    "num=0\n",
    "for i in st:\n",
    "    if  i==\" \":\n",
    "        count+=1\n",
    "        if i=='\\n':\n",
    "            break\n",
    "            num+=1\n",
    "           \n",
    "print(count)\n",
    "print(num)\n",
    "        \n",
    "   \n",
    "\n",
    "\n"
   ]
  },
  {
   "cell_type": "code",
   "execution_count": 4,
   "metadata": {},
   "outputs": [
    {
     "ename": "TypeError",
     "evalue": "unsupported operand type(s) for +: 'int' and 'str'",
     "output_type": "error",
     "traceback": [
      "\u001b[1;31m---------------------------------------------------------------------------\u001b[0m",
      "\u001b[1;31mTypeError\u001b[0m                                 Traceback (most recent call last)",
      "\u001b[1;32mc:\\Users\\sravya\\Desktop\\github python\\python\\whileloop.ipynb Cell 28\u001b[0m line \u001b[0;36m4\n\u001b[0;32m      <a href='vscode-notebook-cell:/c%3A/Users/sravya/Desktop/github%20python/python/whileloop.ipynb#X36sZmlsZQ%3D%3D?line=0'>1</a>\u001b[0m \u001b[39m# 29. WAP to sum of digits in a given string.\u001b[39;00m\n\u001b[0;32m      <a href='vscode-notebook-cell:/c%3A/Users/sravya/Desktop/github%20python/python/whileloop.ipynb#X36sZmlsZQ%3D%3D?line=2'>3</a>\u001b[0m \u001b[39mstr\u001b[39m\u001b[39m=\u001b[39m\u001b[39m'\u001b[39m\u001b[39m123456\u001b[39m\u001b[39m'\u001b[39m\n\u001b[1;32m----> <a href='vscode-notebook-cell:/c%3A/Users/sravya/Desktop/github%20python/python/whileloop.ipynb#X36sZmlsZQ%3D%3D?line=3'>4</a>\u001b[0m \u001b[39msum\u001b[39;49m(\u001b[39mstr\u001b[39;49m)\n",
      "\u001b[1;31mTypeError\u001b[0m: unsupported operand type(s) for +: 'int' and 'str'"
     ]
    }
   ],
   "source": [
    "# 29. WAP to sum of digits in a given string.\n",
    "\n",
    "str='123456'\n"
   ]
  },
  {
   "cell_type": "code",
   "execution_count": 12,
   "metadata": {},
   "outputs": [
    {
     "name": "stdout",
     "output_type": "stream",
     "text": [
      "a 12\n"
     ]
    }
   ],
   "source": [
    "# 30. WAP to Print First Occurrence of a Character in a String.\n",
    "\n",
    "t='python programming language'\n",
    "s='a'\n",
    "for i in range(0,len(s)):\n",
    "    for j in range(0,len(t)):\n",
    "        if s[i]==t[j]:\n",
    "            print(t[j],j)\n",
    "            break\n"
   ]
  },
  {
   "cell_type": "code",
   "execution_count": 26,
   "metadata": {},
   "outputs": [],
   "source": [
    "# 31. WAP to Print Last Occurrence of a Character in a String.\n",
    "\n",
    "t='python programming language'\n",
    "s='a'\n",
    "n='3'\n",
    "count=0\n",
    "for i in range(len(t)):\n",
    "        if t[i]==s:\n",
    "            count+=1\n",
    "            if n==count:\n",
    "                print(s,i)\n",
    "            \n",
    "\n",
    "\n"
   ]
  },
  {
   "cell_type": "code",
   "execution_count": 21,
   "metadata": {},
   "outputs": [
    {
     "name": "stdout",
     "output_type": "stream",
     "text": [
      "a 20\n",
      "a 24\n"
     ]
    }
   ],
   "source": [
    " #32. WAP to Print First not Occurrence of a Character in a String\n",
    "\n",
    "t='python programming language'\n",
    "s='a'\n",
    "n=1\n",
    "count=0\n",
    "for i in range(len(t)):\n",
    "       if t[i]==s:\n",
    "              count+=1\n",
    "              if n!=count:\n",
    "                     print(s,i)"
   ]
  },
  {
   "cell_type": "code",
   "execution_count": null,
   "metadata": {},
   "outputs": [],
   "source": [
    "# 33. WAP to Print last not Occurrence of a Character in a String\n",
    "\n"
   ]
  },
  {
   "cell_type": "code",
   "execution_count": null,
   "metadata": {},
   "outputs": [],
   "source": [
    "# 34. WAP to Remove First Occurrence of a Character in a String.\n"
   ]
  },
  {
   "cell_type": "code",
   "execution_count": 66,
   "metadata": {},
   "outputs": [
    {
     "name": "stdout",
     "output_type": "stream",
     "text": [
      "shravya \n"
     ]
    }
   ],
   "source": [
    "# 45.  uppercase to lowercase characters in a given string.\n",
    "\n",
    "st='SHRAVYA reddy'\n",
    "res=\"\"\n",
    "for i in st:\n",
    "    if 'A'<=i<='z':\n",
    "        res+=chr(ord(i)+32)\n",
    "    else:\n",
    "        res+=i\n",
    "print(res)"
   ]
  },
  {
   "cell_type": "code",
   "execution_count": 65,
   "metadata": {},
   "outputs": [
    {
     "name": "stdout",
     "output_type": "stream",
     "text": [
      "SHRAVYA REDDY\n"
     ]
    }
   ],
   "source": [
    "# 43.lower case to upper case\n",
    "\n",
    "st='SHRAVYA reddy'\n",
    "res=\"\"\n",
    "for i in st:\n",
    "    if 'a'<=i<='z':\n",
    "        res+=chr(ord(i)-32)\n",
    "    else:\n",
    "        res+=i\n",
    "    \n",
    "print(res)"
   ]
  },
  {
   "cell_type": "code",
   "execution_count": 25,
   "metadata": {},
   "outputs": [
    {
     "name": "stdout",
     "output_type": "stream",
     "text": [
      "ShRaVyA reddy\n"
     ]
    }
   ],
   "source": [
    "# 45. WAP to convert uppercase to lowercase in even position characters in a given string.\n",
    "\n",
    "\n",
    "st='SHRAVYA reddy'\n",
    "res=\"\"\n",
    "for i in range(0,len(st)):\n",
    "   if i%2==0:\n",
    "      res+=st[i]\n",
    "   elif'A'<=st[i]<='Z':\n",
    "      res+=chr(ord(st[i])+32)\n",
    "   else:\n",
    "      res+=st[i]\n",
    "print(res)\n",
    "      \n",
    "         "
   ]
  },
  {
   "cell_type": "code",
   "execution_count": 26,
   "metadata": {},
   "outputs": [
    {
     "name": "stdout",
     "output_type": "stream",
     "text": [
      "sHrAvYa reddy\n"
     ]
    }
   ],
   "source": [
    "#46. WAP to convert uppercase to lowercase in odd position characters in a given string.\n",
    "\n",
    "st='SHRAVYA reddy'\n",
    "res=\"\"\n",
    "for i in range(0,len(st)):\n",
    "   if i%2!=0:\n",
    "      res+=st[i]\n",
    "   elif'A'<=st[i]<='Z':\n",
    "      res+=chr(ord(st[i])+32)\n",
    "   else:\n",
    "      res+=st[i]\n",
    "print(res)"
   ]
  },
  {
   "cell_type": "code",
   "execution_count": 43,
   "metadata": {},
   "outputs": [
    {
     "name": "stdout",
     "output_type": "stream",
     "text": [
      "pYtHON**proGRAmminG******\n"
     ]
    }
   ],
   "source": [
    "# 47. WAP to convert the uppercase letter to lowercase letter and lowercase letter to uppercase letter,if the character is special symbol replace with * for the given input string.\n",
    "\n",
    "ch=\"PyThon PROgraMMINg @#\"\n",
    "res=\"\"\n",
    "for i in range(len(ch)):\n",
    "    if 'A'<=ch[i]<='Z':\n",
    "        res+=chr(ord(ch[i])+32)\n",
    "    elif 'a'<=ch[i]<='z':\n",
    "        res+=chr(ord(ch[i])-32)\n",
    "    elif not ('A'<=ch[i]<='Z' and 'a'<=ch[i]<='z'and '0'<=ch[i]<='9'):\n",
    "        res+='**'\n",
    "print(res)\n",
    "\n"
   ]
  },
  {
   "cell_type": "code",
   "execution_count": 72,
   "metadata": {},
   "outputs": [
    {
     "ename": "IndexError",
     "evalue": "string index out of range",
     "output_type": "error",
     "traceback": [
      "\u001b[1;31m---------------------------------------------------------------------------\u001b[0m",
      "\u001b[1;31mIndexError\u001b[0m                                Traceback (most recent call last)",
      "\u001b[1;32mc:\\Users\\sravya\\Desktop\\github python\\python\\whileloop.ipynb Cell 39\u001b[0m line \u001b[0;36m1\n\u001b[0;32m     <a href='vscode-notebook-cell:/c%3A/Users/sravya/Desktop/github%20python/python/whileloop.ipynb#X53sZmlsZQ%3D%3D?line=12'>13</a>\u001b[0m \u001b[39mif\u001b[39;00m \u001b[39mnot\u001b[39;00m(\u001b[39m'\u001b[39m\u001b[39mA\u001b[39m\u001b[39m'\u001b[39m\u001b[39m<\u001b[39m\u001b[39m=\u001b[39mst[temp]\u001b[39m<\u001b[39m\u001b[39m=\u001b[39m\u001b[39m'\u001b[39m\u001b[39mZ\u001b[39m\u001b[39m'\u001b[39m \u001b[39mand\u001b[39;00m \u001b[39m'\u001b[39m\u001b[39ma\u001b[39m\u001b[39m'\u001b[39m\u001b[39m<\u001b[39m\u001b[39m=\u001b[39mst[temp]\u001b[39m<\u001b[39m\u001b[39m=\u001b[39m\u001b[39m'\u001b[39m\u001b[39mz\u001b[39m\u001b[39m'\u001b[39m) :\n\u001b[0;32m     <a href='vscode-notebook-cell:/c%3A/Users/sravya/Desktop/github%20python/python/whileloop.ipynb#X53sZmlsZQ%3D%3D?line=13'>14</a>\u001b[0m     res\u001b[39m+\u001b[39m\u001b[39m=\u001b[39mst[temp]\n\u001b[1;32m---> <a href='vscode-notebook-cell:/c%3A/Users/sravya/Desktop/github%20python/python/whileloop.ipynb#X53sZmlsZQ%3D%3D?line=14'>15</a>\u001b[0m     \u001b[39mif\u001b[39;00m \u001b[39m'\u001b[39m\u001b[39ma\u001b[39m\u001b[39m'\u001b[39m\u001b[39m<\u001b[39m\u001b[39m=\u001b[39mst[temp\u001b[39m+\u001b[39;49m\u001b[39m1\u001b[39;49m]\u001b[39m<\u001b[39m\u001b[39m=\u001b[39m\u001b[39m'\u001b[39m\u001b[39mz\u001b[39m\u001b[39m'\u001b[39m:\n\u001b[0;32m     <a href='vscode-notebook-cell:/c%3A/Users/sravya/Desktop/github%20python/python/whileloop.ipynb#X53sZmlsZQ%3D%3D?line=15'>16</a>\u001b[0m         res\u001b[39m+\u001b[39m\u001b[39m=\u001b[39m\u001b[39mchr\u001b[39m(\u001b[39mord\u001b[39m(st[temp\u001b[39m+\u001b[39m\u001b[39m1\u001b[39m])\u001b[39m-\u001b[39m\u001b[39m32\u001b[39m)\n\u001b[0;32m     <a href='vscode-notebook-cell:/c%3A/Users/sravya/Desktop/github%20python/python/whileloop.ipynb#X53sZmlsZQ%3D%3D?line=16'>17</a>\u001b[0m     \u001b[39melse\u001b[39;00m:\n",
      "\u001b[1;31mIndexError\u001b[0m: string index out of range"
     ]
    }
   ],
   "source": [
    "# 48. WAP to convert title case in a given string.\n",
    "\n",
    "st=\"python is a 23ProGRAmm@ing *languaGE\"\n",
    "res=\"\"\n",
    "temp=0\n",
    "if 'a'<=st[0]<='z':\n",
    "    res+=chr(ord(st[0])-32)\n",
    "    temp=1\n",
    "elif 'A'<=st[0]<='Z':\n",
    "    res+=st[0]\n",
    "    temp=1\n",
    "while temp<len(st):\n",
    "    if not('A'<=st[temp]<='Z' and 'a'<=st[temp]<='z') :\n",
    "        res+=st[temp]\n",
    "        if 'a'<=st[temp+1]<='z':\n",
    "            res+=chr(ord(st[temp+1])-32)\n",
    "        else:\n",
    "            res+=st[temp+1]\n",
    "    elif 'A'<=st[temp]<='Z':\n",
    "        res+=chr(ord(st[temp])+32)\n",
    "    else:\n",
    "        res+=st[temp]\n",
    "    temp+=1\n",
    "    \n",
    "print( res)\n",
    "\n",
    " \n",
    "    \n",
    "\n"
   ]
  },
  {
   "cell_type": "code",
   "execution_count": 76,
   "metadata": {},
   "outputs": [
    {
     "name": "stdout",
     "output_type": "stream",
     "text": [
      "Python Iis Aa 2233Pprogramm@Iing **Llanguage\n"
     ]
    }
   ],
   "source": [
    "\n",
    "# 48. WAP to convert title case in a given string.\n",
    "\n",
    "st=\"python is a 23proGRAmm@ing *languaGE\"\n",
    "res=\"\"\n",
    "temp=0\n",
    "if 'a'<=st[0]<='z':\n",
    "    res+=chr(ord(st[0])-32)\n",
    "    temp=1\n",
    "elif 'A'<=st[0]<='Z':\n",
    "    res+=st[0]\n",
    "    temp=1\n",
    "while temp<len(st):\n",
    "    if not('A'<=st[temp]<='Z' or 'a'<=st[temp]<='z') :\n",
    "        res+=st[temp]\n",
    "        if 'a'<=st[temp+1]<='z':\n",
    "            res+=chr(ord(st[temp+1])-32)\n",
    "        else:\n",
    "            res+=st[temp+1]\n",
    "    elif 'A'<=st[temp]<='Z':\n",
    "        res+=chr(ord(st[temp])+32)\n",
    "    else:\n",
    "        res+=st[temp]\n",
    "    temp+=1\n",
    "    \n",
    "print( res)"
   ]
  },
  {
   "cell_type": "code",
   "execution_count": 78,
   "metadata": {},
   "outputs": [
    {
     "name": "stdout",
     "output_type": "stream",
     "text": [
      "high_level_language\n"
     ]
    }
   ],
   "source": [
    "# 49. WAP to convert snake_case in a given string.\n",
    "\n",
    "st=\"high level language\"\n",
    "old=\" \"\n",
    "new=\"_\"\n",
    "res=\"\"\n",
    "for i in st:\n",
    "    if i==old:\n",
    "        res+=new\n",
    "    else:\n",
    "        res+=i\n",
    "print(res)\n"
   ]
  },
  {
   "cell_type": "code",
   "execution_count": null,
   "metadata": {},
   "outputs": [],
   "source": [
    "# 50. WAP to Toggle Characters Case in a String.\n"
   ]
  },
  {
   "cell_type": "code",
   "execution_count": 81,
   "metadata": {},
   "outputs": [
    {
     "name": "stdout",
     "output_type": "stream",
     "text": [
      "pyth111n 105s 105nt101rpr101t101d l97ng11797g101\n"
     ]
    }
   ],
   "source": [
    "# 51. WAP to replace vowels into ascii values in a given string.(both with and with temp variable\n",
    "# with temp variable\n",
    "st=\"python is interpreted language\"\n",
    "res=\"\"\n",
    "for i in st:\n",
    "    if i in ('aeiou' or 'AEIOU'):\n",
    "        temp=ord(i)\n",
    "        res+=str(temp)\n",
    "    else:\n",
    "        res+=i\n",
    "print(res)\n",
    "\n"
   ]
  },
  {
   "cell_type": "code",
   "execution_count": 91,
   "metadata": {},
   "outputs": [
    {
     "name": "stdout",
     "output_type": "stream",
     "text": [
      "pyth111n 105s 105nt101rpr101t101d l97ng11797g101\n"
     ]
    }
   ],
   "source": [
    "# vowels into ascii values with out temp variable\n",
    "\n",
    "st=\"python is interpreted language\"\n",
    "res=\"\"\n",
    "for i in st:\n",
    "    if i in ('aeiou' or 'AEIOU'):\n",
    "        res+=str(ord(i))\n",
    "    else:\n",
    "        res+=i\n",
    "print(res)"
   ]
  },
  {
   "cell_type": "code",
   "execution_count": 89,
   "metadata": {},
   "outputs": [
    {
     "name": "stdout",
     "output_type": "stream",
     "text": [
      "112104121116104o11032108a110103ua103e\n"
     ]
    }
   ],
   "source": [
    "# 52. WAP to replace consonants into ascii values in a given string. (both with and with temp variable)\n",
    "\n",
    "st=\"phython language\"\n",
    "res=\"\"\n",
    "for i in st:\n",
    "    if i not in ('aeiou' or 'AEIOU'):\n",
    "         temp=ord(i)\n",
    "         res+=str(temp)\n",
    "    else:\n",
    "         res+=i\n",
    "print(res)"
   ]
  },
  {
   "cell_type": "code",
   "execution_count": 92,
   "metadata": {},
   "outputs": [
    {
     "name": "stdout",
     "output_type": "stream",
     "text": [
      "112121116104o11032108a110103ua103e\n"
     ]
    }
   ],
   "source": [
    "#  consonants into ascii values without temp variable\n",
    "\n",
    "st=\"python language\"\n",
    "res=\"\"\n",
    "for i in st:\n",
    "    if i not in ('aeiou' or 'AEIOU'):\n",
    "         res+=str(ord(i))\n",
    "    else:\n",
    "         res+=i\n",
    "print(res)"
   ]
  },
  {
   "cell_type": "code",
   "execution_count": 108,
   "metadata": {},
   "outputs": [
    {
     "name": "stdout",
     "output_type": "stream",
     "text": [
      "yhnlngp121t104o110 108a110gua103e\n"
     ]
    }
   ],
   "source": [
    "# 53. WAP to replace consonants to ascii values in odd position characters in a given string.(both with and with temp variable)\n",
    "\n",
    "st=\"python language\"\n",
    "res=\"\"\n",
    "for i in range(len(st)):\n",
    "    if 'a'<=st[i]<='z' or 'A'<=st[i]<='Z':\n",
    "        if st[i] not in 'aeiouAEIOU':\n",
    "            if i%2!=0:\n",
    "                print(st[i],end=\"\")\n",
    "                res+=str(ord(st[i]))\n",
    "            else:\n",
    "                res+=st[i]\n",
    "        else:\n",
    "            res+=st[i]\n",
    "    else:\n",
    "        res+=st[i]\n",
    "print(res)\n"
   ]
  },
  {
   "cell_type": "code",
   "execution_count": 113,
   "metadata": {},
   "outputs": [
    {
     "name": "stdout",
     "output_type": "stream",
     "text": [
      "aaoacl97ss st97rts t111o e97rly\n"
     ]
    }
   ],
   "source": [
    "# 54. WAP to replace vowels to ascii values in even position characters in a given string.(both with and with temp variable)\n",
    "\n",
    "st=\"class starts too early\"\n",
    "res=\"\"\n",
    "for i in range(len(st)):\n",
    "    if 'a'<=st[i]<='z' or 'A'<=st[i]<='Z':\n",
    "        if st[i] in 'aeiouAEIOU':\n",
    "            if i%2==0:\n",
    "                print(st[i],end=\"\")\n",
    "                res+=str(ord(st[i]))\n",
    "            else:\n",
    "                res+=st[i]\n",
    "        else:\n",
    "            res+=st[i]\n",
    "    else:\n",
    "        res+=st[i]\n",
    "print(res)"
   ]
  },
  {
   "cell_type": "code",
   "execution_count": 2,
   "metadata": {},
   "outputs": [
    {
     "name": "stdout",
     "output_type": "stream",
     "text": [
      "hii-welcome-to-looping-statement\n"
     ]
    }
   ],
   "source": [
    "# 55. WAP to Replace white Spaces with Hyphen in a String.(both with and with temp variable)\n",
    "\n",
    "st=\"hii welcome to looping statement\"\n",
    "replace=\"\"\n",
    "for i in st:\n",
    "    if i==' ':\n",
    "        replace+='-'\n",
    "    else:\n",
    "        replace+=i\n",
    "print(replace)\n",
    "\n"
   ]
  },
  {
   "cell_type": "code",
   "execution_count": 7,
   "metadata": {},
   "outputs": [
    {
     "name": "stdout",
     "output_type": "stream",
     "text": [
      "loigsaeet\n"
     ]
    }
   ],
   "source": [
    "# 56. WAP to Remove Odd position Characters in a given String.\n",
    "\n",
    "st=\"looping statement\"\n",
    "res=\"\"\n",
    "for i in range(len(st)):\n",
    "    if i%2==0:\n",
    "        res+=st[i]\n",
    "print(res)"
   ]
  },
  {
   "cell_type": "code",
   "execution_count": 8,
   "metadata": {},
   "outputs": [
    {
     "name": "stdout",
     "output_type": "stream",
     "text": [
      "opn ttmn\n"
     ]
    }
   ],
   "source": [
    "# 57. WAP to Remove even position Characters in a given String.\n",
    "\n",
    "st=\"looping statement\"\n",
    "res=\"\"\n",
    "for i in range(len(st)):\n",
    "    if i%2!=0:\n",
    "        res+=st[i]\n",
    "print(res)\n",
    "\n"
   ]
  },
  {
   "cell_type": "code",
   "execution_count": 9,
   "metadata": {},
   "outputs": [
    {
     "name": "stdout",
     "output_type": "stream",
     "text": [
      "$@7@ ## 46989\n"
     ]
    }
   ],
   "source": [
    "# 58. WAP to Remove alphabets in a given String.\n",
    "\n",
    "st=\"$hr@v7@ r##ddy 46989\"\n",
    "res=\"\"\n",
    "for i in st:\n",
    "    if not 'a'<=i<='z' or 'A'<=i<='Z':\n",
    "        res+=i\n",
    "print(res)"
   ]
  },
  {
   "cell_type": "code",
   "execution_count": 10,
   "metadata": {},
   "outputs": [
    {
     "name": "stdout",
     "output_type": "stream",
     "text": [
      "$hr@v@ r##ddy \n"
     ]
    }
   ],
   "source": [
    "# 59. WAP to Remove ascii numbers in a given String\n",
    "\n",
    "st=\"$hr@v7@ r##ddy 46989\"\n",
    "res=\"\"\n",
    "for i in st:\n",
    "    if not '0'<=i<='9':\n",
    "        res+=i\n",
    "print(res)"
   ]
  },
  {
   "cell_type": "code",
   "execution_count": 11,
   "metadata": {},
   "outputs": [
    {
     "name": "stdout",
     "output_type": "stream",
     "text": [
      "hrv7rddy46989\n"
     ]
    }
   ],
   "source": [
    "# 60. WAP to Remove special characters in a given String.\n",
    "\n",
    "st=\"$hr@v7@ r##ddy 46989\"\n",
    "res=\"\"\n",
    "for i in st:\n",
    "    if 'a'<=i<='z' or 'A'<=i<='Z' or '0'<=i<='9':\n",
    "        res+=i\n",
    "print(res)\n",
    "\n",
    "\n",
    "\n"
   ]
  },
  {
   "cell_type": "code",
   "execution_count": 13,
   "metadata": {},
   "outputs": [
    {
     "name": "stdout",
     "output_type": "stream",
     "text": [
      "given string is palindrome\n"
     ]
    }
   ],
   "source": [
    "# 61. WAP to check if the given string is Palindrome or Not.\n",
    "\n",
    "st='18shrhs81'\n",
    "res=\"\"\n",
    "for i in st:\n",
    "    res=i+res\n",
    "if res==st:\n",
    "    print(\"given string is palindrome\")\n",
    "else:\n",
    "    print(\"not a polindrome\")"
   ]
  },
  {
   "cell_type": "code",
   "execution_count": 34,
   "metadata": {},
   "outputs": [
    {
     "name": "stdout",
     "output_type": "stream",
     "text": [
      "given string is lower case\n"
     ]
    }
   ],
   "source": [
    "# 62. WAP to check whether the given string is lowercase or not\n",
    "\n",
    "st=\"LOOPINGstatement\"\n",
    "res=\"\"\n",
    "for i in st:\n",
    "    if 'a'<=i<='z':\n",
    "        print(\"given string is lower case\")\n",
    "        break\n",
    "\n",
    "   \n"
   ]
  },
  {
   "cell_type": "code",
   "execution_count": 43,
   "metadata": {},
   "outputs": [
    {
     "name": "stdout",
     "output_type": "stream",
     "text": [
      "False\n"
     ]
    }
   ],
   "source": [
    "# 62. WAP to check whether the given string is lowercase or not\n",
    "\n",
    "st=\" LOOPING statement\"\n",
    "res=\"\"\n",
    "for i in st:\n",
    "    if 'A'<=i<='Z':\n",
    "        res=False\n",
    "        break\n",
    "    res=True\n",
    "print(res)\n",
    "\n",
    "    "
   ]
  },
  {
   "cell_type": "code",
   "execution_count": 50,
   "metadata": {},
   "outputs": [
    {
     "data": {
      "text/plain": [
       "True"
      ]
     },
     "execution_count": 50,
     "metadata": {},
     "output_type": "execute_result"
    }
   ],
   "source": [
    "# by using function string lowercase or not\n",
    "\n",
    "st=\"looping statement123\"\n",
    "def u_lower(coll):\n",
    "    res=''\n",
    "    for i in coll:\n",
    "        if 'A'<=i<='Z':\n",
    "            return False\n",
    "    return True\n",
    "u_lower(st)"
   ]
  },
  {
   "cell_type": "code",
   "execution_count": 75,
   "metadata": {},
   "outputs": [
    {
     "name": "stdout",
     "output_type": "stream",
     "text": [
      "True\n"
     ]
    }
   ],
   "source": [
    "# 63. WAP to check whether the given number is string or not.\n",
    "\n",
    "st=\"shravs\"\n",
    "res=\"\"\n",
    "for i in st:\n",
    "    if type(i)!=str:\n",
    "        res=False\n",
    "    else:\n",
    "        res=True\n",
    "print(res)\n"
   ]
  },
  {
   "cell_type": "code",
   "execution_count": 86,
   "metadata": {},
   "outputs": [
    {
     "name": "stdout",
     "output_type": "stream",
     "text": [
      "eoo123aii\n"
     ]
    }
   ],
   "source": [
    "# 64. I/p: ‘hello world 123 haii’\n",
    "#o/p:’eoo123aii’\n",
    "\n",
    "st=\"hello world 123 haii\"\n",
    "res=''\n",
    "for i in range(len(st)):\n",
    "    if st[i] in 'AEIOUaeiou':\n",
    "        res+=st[i]\n",
    "    elif '0'<=st[i]<='9':\n",
    "        res+=st[i]\n",
    "print(res)\n",
    "    \n",
    "\n"
   ]
  },
  {
   "cell_type": "code",
   "execution_count": 88,
   "metadata": {},
   "outputs": [
    {
     "name": "stdout",
     "output_type": "stream",
     "text": [
      "eo o 123 aii\n"
     ]
    }
   ],
   "source": [
    "# 65. I/p: ‘hello world 123 haii’\n",
    "# o/p:’eo o 123 aii’\n",
    "\n",
    "st=\"hello world 123 haii\"\n",
    "res=''\n",
    "for i in range(len(st)):\n",
    "    if st[i] in 'AEIOUaeiou':\n",
    "        res+=st[i]\n",
    "    elif '0'<=st[i]<='9':\n",
    "        res+=st[i]\n",
    "    elif st[i]==\" \":\n",
    "        res+=st[i]\n",
    "print(res)"
   ]
  },
  {
   "cell_type": "code",
   "execution_count": 89,
   "metadata": {},
   "outputs": [
    {
     "name": "stdout",
     "output_type": "stream",
     "text": [
      "eo o  aii\n"
     ]
    }
   ],
   "source": [
    "# 66. I/p: ‘hello world 123 haii’\n",
    "# o/p:’eo o aii’\n",
    "\n",
    "st=\"hello world 123 haii\"\n",
    "res=''\n",
    "for i in range(len(st)):\n",
    "    if st[i] in 'AEIOUaeiou':\n",
    "        res+=st[i]\n",
    "    elif st[i]==\" \":\n",
    "        res+=st[i]\n",
    "print(res)"
   ]
  },
  {
   "cell_type": "code",
   "execution_count": 92,
   "metadata": {},
   "outputs": [
    {
     "name": "stdout",
     "output_type": "stream",
     "text": [
      "hello world 123 haii\n",
      "hello world 123 haii\n",
      "hello world 123 haii\n",
      "eo o  aii\n"
     ]
    }
   ],
   "source": [
    "# 67. I/p: ‘hello world 123 haii’\n",
    "# o/p:’hll world haii’\n",
    "\n",
    "st=\"hello world 123 haii\"\n",
    "res=''\n",
    "for i in range(len(st)):\n",
    "    if st[i]==\" \":\n",
    "        \n",
    "    if st[i] in 'AEIOUaeiou':\n",
    "        res+=st[i]\n",
    "    elif st[i]==\" \":\n",
    "        res+=st[i]\n",
    "print(res)"
   ]
  },
  {
   "cell_type": "code",
   "execution_count": 95,
   "metadata": {},
   "outputs": [
    {
     "name": "stdout",
     "output_type": "stream",
     "text": [
      "hll wrld  h\n"
     ]
    }
   ],
   "source": [
    "# 67. I/p: ‘hello world 123 haii’\n",
    "# o/p:’hll world haii’\n",
    "\n",
    "st=\"hello world 123 haii\"\n",
    "res=''\n",
    "for i in range(len(st)):\n",
    "    if not '0'<=st[i]<='9':\n",
    "       if st[i] not in 'AEIOUaeiou':\n",
    "        res+=st[i]\n",
    "print(res)"
   ]
  },
  {
   "cell_type": "code",
   "execution_count": 113,
   "metadata": {},
   "outputs": [
    {
     "name": "stdout",
     "output_type": "stream",
     "text": [
      "hll wrld\n",
      "eoo\n"
     ]
    }
   ],
   "source": [
    "# 68. i/p:’hello world’\n",
    "# o/p:’hll wrld’\n",
    "# o/p:’eoo’\n",
    "\n",
    "st=\"hello world\"\n",
    "con=''\n",
    "vow=''\n",
    "for i in st:\n",
    "    if i not in 'aeiou':\n",
    "        con+=i\n",
    "    elif i in 'aeiou':\n",
    "        vow+=i\n",
    "print(con)\n",
    "print(vow)\n",
    "\n",
    "   \n",
    "\n"
   ]
  },
  {
   "cell_type": "code",
   "execution_count": 124,
   "metadata": {},
   "outputs": [
    {
     "name": "stdout",
     "output_type": "stream",
     "text": [
      "hll wrld\n",
      "eoo\n",
      "12344\n"
     ]
    }
   ],
   "source": [
    "# 69. i/p:’12hello3 4world4’\n",
    "# o/p:’hll wrld’\n",
    "# o/p:’eoo’\n",
    "# o/p:’12344’\n",
    "st=\"12hello3 4world4\"\n",
    "con=''\n",
    "vow=''\n",
    "num=''\n",
    "for i in st:\n",
    "    if i not in 'AEIOUaeiou' and not '0'<=i<='9':\n",
    "        con+=i\n",
    "    elif i in 'AEIOUaeiou':\n",
    "        vow+=i\n",
    "    elif '0'<=i<='9':\n",
    "        num+=i\n",
    "print(con)\n",
    "print(vow)\n",
    "print(num)\n",
    "\n",
    "\n"
   ]
  },
  {
   "cell_type": "code",
   "execution_count": 127,
   "metadata": {},
   "outputs": [
    {
     "name": "stdout",
     "output_type": "stream",
     "text": [
      "hllwrld\n",
      "eoo\n",
      "12344\n",
      "(*$ $#*)\n"
     ]
    }
   ],
   "source": [
    "# 70. i/p:’(*12hello3$ $4#world4*)’\n",
    "# o/p:’hllwrld’\n",
    "# o/p:’eoo’\n",
    "# o/p:’12344’\n",
    "# o/p:’(*$ $#*)\n",
    "\n",
    "st=\"(*12hello3$ $4#world4*)\"\n",
    "con=''\n",
    "vow=''\n",
    "num=''\n",
    "sp=''\n",
    "for i in st:\n",
    "    if i not in 'AEIOUaeiou' and not '0'<=i<='9' and ('A'<=i<='Z' or 'a'<=i<='z' or '0'<=i<='9') :\n",
    "        con+=i\n",
    "    elif i in 'AEIOUaeiou':\n",
    "        vow+=i\n",
    "    elif '0'<=i<='9':\n",
    "        num+=i\n",
    "    elif not('A'<=i<='Z' or 'a'<=i<='z' or '0'<=i<='9'):\n",
    "        sp+=i\n",
    "print(con)\n",
    "print(vow)\n",
    "print(num)\n",
    "print(sp)\n",
    "\n"
   ]
  },
  {
   "cell_type": "code",
   "execution_count": 133,
   "metadata": {},
   "outputs": [
    {
     "name": "stdout",
     "output_type": "stream",
     "text": [
      ")*#$ $*( 44321 ooe dlrwllh\n"
     ]
    }
   ],
   "source": [
    "# 71. i/p: ’(*12hello3$ $4#world4*)’\n",
    "# o/p: ')*#$ $*(,44321,ooe,dlrwllh'\n",
    "\n",
    "st=\"(*12hello3$ $4#world4*)\"\n",
    "con=''\n",
    "vow=''\n",
    "num=''\n",
    "sp=''\n",
    "for i in st:\n",
    "    if not('A'<=i<='Z' or 'a'<=i<='z' or '0'<=i<='9'):\n",
    "        sp+=i\n",
    "    elif '0'<=i<='9':\n",
    "        num+=i\n",
    "    elif i in 'AEIOUaeiou':\n",
    "        vow+=i\n",
    "    if i not in 'AEIOUaeiou' and not '0'<=i<='9' and ('A'<=i<='Z' or 'a'<=i<='z' or '0'<=i<='9') :\n",
    "        con+=i\n",
    "print(sp[::-1],num[::-1],vow[::-1],con[::-1])\n",
    "\n"
   ]
  },
  {
   "cell_type": "code",
   "execution_count": 129,
   "metadata": {},
   "outputs": [
    {
     "name": "stdout",
     "output_type": "stream",
     "text": [
      "hllwrld eoo 12344 (*$ $#*)\n"
     ]
    }
   ],
   "source": [
    "# 72. i/p:’(*12hello3$ $4#world4*)’\n",
    "# o/p:’hllwrld,eoo,12344,(*$ $#*)’\n",
    "\n",
    "st=\"(*12hello3$ $4#world4*)\"\n",
    "con=''\n",
    "vow=''\n",
    "num=''\n",
    "sp=''\n",
    "for i in st:\n",
    "    if i not in 'AEIOUaeiou' and not '0'<=i<='9' and ('A'<=i<='Z' or 'a'<=i<='z' or '0'<=i<='9') :\n",
    "        con+=i\n",
    "    elif i in 'AEIOUaeiou':\n",
    "        vow+=i\n",
    "    elif '0'<=i<='9':\n",
    "        num+=i\n",
    "    elif not('A'<=i<='Z' or 'a'<=i<='z' or '0'<=i<='9'):\n",
    "        sp+=i\n",
    "print(con,vow,num,sp)\n"
   ]
  },
  {
   "cell_type": "code",
   "execution_count": 136,
   "metadata": {},
   "outputs": [
    {
     "name": "stdout",
     "output_type": "stream",
     "text": [
      "hllwrld )*#$ $*( eoo 44321\n"
     ]
    }
   ],
   "source": [
    "# 73. i/p: ’(*12hello3$ $4#world4*)’\n",
    "# o/p:’,hllwrld,)*#$ $*(’,eoo,44321’\n",
    "\n",
    "st=\"(*12hello3$ $4#world4*)\"\n",
    "con=''\n",
    "vow=''\n",
    "num=''\n",
    "sp=''\n",
    "for i in st:\n",
    "    if i not in 'AEIOUaeiou' and not '0'<=i<='9' and ('A'<=i<='Z' or 'a'<=i<='z' or '0'<=i<='9') :\n",
    "        con+=i\n",
    "    elif not('A'<=i<='Z' or 'a'<=i<='z' or '0'<=i<='9'):\n",
    "        sp+=i\n",
    "    elif i in 'AEIOUaeiou':\n",
    "        vow+=i\n",
    "    elif '0'<=i<='9':\n",
    "        num+=i\n",
    "print(con,sp[::-1],vow,num[::-1])\n"
   ]
  },
  {
   "cell_type": "code",
   "execution_count": 137,
   "metadata": {},
   "outputs": [
    {
     "name": "stdout",
     "output_type": "stream",
     "text": [
      ")*#$ $*( 44321 ooe dlrwllh\n"
     ]
    }
   ],
   "source": [
    "# 74. i/p: ’(*12hello3$ $4#world4*)’\n",
    "# o/p: ')*#$ $*(,44321,ooe,dlrwllh'\n",
    "\n",
    "st=\"(*12hello3$ $4#world4*)\"\n",
    "con=''\n",
    "vow=''\n",
    "num=''\n",
    "sp=''\n",
    "for i in st:\n",
    "    if i not in 'AEIOUaeiou' and not '0'<=i<='9' and ('A'<=i<='Z' or 'a'<=i<='z' or '0'<=i<='9') :\n",
    "        con+=i\n",
    "    elif not('A'<=i<='Z' or 'a'<=i<='z' or '0'<=i<='9'):\n",
    "        sp+=i\n",
    "    elif i in 'AEIOUaeiou':\n",
    "        vow+=i\n",
    "    elif '0'<=i<='9':\n",
    "        num+=i\n",
    "print(sp[::-1],num[::-1],vow[::-1],con[::-1])\n"
   ]
  },
  {
   "cell_type": "code",
   "execution_count": 142,
   "metadata": {},
   "outputs": [
    {
     "name": "stdout",
     "output_type": "stream",
     "text": [
      "dlrwllh )*#$ $*( 44321 ooe dlrwllh\n"
     ]
    }
   ],
   "source": [
    "# 75. i/p: ’(*12hello3$ $4#world4*)’\n",
    "# o/p:’dlrwllh)*#$ $*(ooe44321’\n",
    "\n",
    "st=\"(*12hello3$ $4#world4*)\"\n",
    "con=''\n",
    "vow=''\n",
    "num=''\n",
    "sp=''\n",
    "for i in st:\n",
    "    if i not in 'AEIOUaeiou' and not '0'<=i<='9' and ('A'<=i<='Z' or 'a'<=i<='z' or '0'<=i<='9') :\n",
    "        con+=i\n",
    "    elif not('A'<=i<='Z' or 'a'<=i<='z' or '0'<=i<='9'):\n",
    "        sp+=i\n",
    "    elif i in 'AEIOUaeiou':\n",
    "        vow+=i\n",
    "    elif '0'<=i<='9':\n",
    "        num+=i\n",
    "print(con[::-1],sp[::-1],num[::-1],vow[::-1],con[::-1])"
   ]
  },
  {
   "cell_type": "code",
   "execution_count": 16,
   "metadata": {},
   "outputs": [
    {
     "name": "stdout",
     "output_type": "stream",
     "text": [
      "E\n"
     ]
    }
   ],
   "source": [
    "# 76. I/p:’HELLOWORLD’\n",
    "# o/p:’h$ll*w*rld’\n",
    "\n",
    "st='HELLOWORLD'\n",
    "res=''\n",
    "for i in st:\n",
    "    if i in'Ii':\n",
    "        i='*'\n",
    "        res+=i\n",
    "    elif i in 'eE':\n",
    "        E='$'\n",
    "        res+=i\n",
    "    elif not'aeiouAEIOU':\n",
    "        res=i\n",
    "print(res)\n"
   ]
  },
  {
   "cell_type": "code",
   "execution_count": 22,
   "metadata": {},
   "outputs": [
    {
     "ename": "TypeError",
     "evalue": "can only concatenate str (not \"int\") to str",
     "output_type": "error",
     "traceback": [
      "\u001b[1;31m---------------------------------------------------------------------------\u001b[0m",
      "\u001b[1;31mTypeError\u001b[0m                                 Traceback (most recent call last)",
      "\u001b[1;32mc:\\Users\\sravya\\Desktop\\github python\\python\\whileloop.ipynb Cell 74\u001b[0m line \u001b[0;36m9\n\u001b[0;32m      <a href='vscode-notebook-cell:/c%3A/Users/sravya/Desktop/github%20python/python/whileloop.ipynb#Y133sZmlsZQ%3D%3D?line=6'>7</a>\u001b[0m     i\u001b[39m=\u001b[39m\u001b[39m'\u001b[39m\u001b[39m*\u001b[39m\u001b[39m'\u001b[39m\n\u001b[0;32m      <a href='vscode-notebook-cell:/c%3A/Users/sravya/Desktop/github%20python/python/whileloop.ipynb#Y133sZmlsZQ%3D%3D?line=7'>8</a>\u001b[0m     res\u001b[39m+\u001b[39m\u001b[39m=\u001b[39mi\n\u001b[1;32m----> <a href='vscode-notebook-cell:/c%3A/Users/sravya/Desktop/github%20python/python/whileloop.ipynb#Y133sZmlsZQ%3D%3D?line=8'>9</a>\u001b[0m     i\u001b[39m+\u001b[39;49m\u001b[39m=\u001b[39;49m\u001b[39m1\u001b[39;49m\n\u001b[0;32m     <a href='vscode-notebook-cell:/c%3A/Users/sravya/Desktop/github%20python/python/whileloop.ipynb#Y133sZmlsZQ%3D%3D?line=9'>10</a>\u001b[0m \u001b[39melif\u001b[39;00m \u001b[39m'\u001b[39m\u001b[39meE\u001b[39m\u001b[39m'\u001b[39m:\n\u001b[0;32m     <a href='vscode-notebook-cell:/c%3A/Users/sravya/Desktop/github%20python/python/whileloop.ipynb#Y133sZmlsZQ%3D%3D?line=10'>11</a>\u001b[0m     i\u001b[39m=\u001b[39m\u001b[39m'\u001b[39m\u001b[39m$\u001b[39m\u001b[39m'\u001b[39m\n",
      "\u001b[1;31mTypeError\u001b[0m: can only concatenate str (not \"int\") to str"
     ]
    }
   ],
   "source": [
    "st='HELLOWORLD'\n",
    "res=''\n",
    "i=0\n",
    "while i<len(st):\n",
    "    if 'aeiouAEIOU':\n",
    "        if 'iI':\n",
    "            i='*'\n",
    "            res+=i\n",
    "            i+=1\n",
    "        elif 'eE':\n",
    "            i='$'\n",
    "            res+=i\n",
    "            i+=1\n",
    "    else:\n",
    "        res+=i\n",
    "        i+=1\n"
   ]
  },
  {
   "cell_type": "code",
   "execution_count": 42,
   "metadata": {},
   "outputs": [
    {
     "name": "stdout",
     "output_type": "stream",
     "text": [
      "hllwrld 21\n"
     ]
    }
   ],
   "source": [
    "# 77. #I/p:’123HELLO WORLD456’\n",
    "#o/p:’hllwrld21’\n",
    "\n",
    "s='123HELLO WORLD456'\n",
    "var=''\n",
    "num=''\n",
    "for i in s:\n",
    "    if i not in 'AEIOU' and \"A\"<=i<=\"Z\" :\n",
    "        var+=chr(ord(i)+32)\n",
    "    elif '0'<=i<='9':\n",
    "        num+=i\n",
    "    \n",
    "print(var,num[-5:-7:-1])\n",
    "  "
   ]
  },
  {
   "cell_type": "code",
   "execution_count": 23,
   "metadata": {},
   "outputs": [
    {
     "name": "stdout",
     "output_type": "stream",
     "text": [
      "123hEllO wOrld456\n"
     ]
    }
   ],
   "source": [
    "# 78. #I/p:’123HELLO WORLD456’\n",
    "#o/p:’123hEllO wOrld456’\n",
    "\n",
    "s='123HELLO WORLD456'\n",
    "res=''\n",
    "for i in s:\n",
    "    if i not in 'AEIOU' and 'A'<=i<='Z':\n",
    "        res+=chr(ord(i)+32)\n",
    "    else:\n",
    "        res+=i\n",
    "print(res)    \n"
   ]
  },
  {
   "cell_type": "code",
   "execution_count": null,
   "metadata": {},
   "outputs": [],
   "source": [
    "# 79. #I/p:’123HELLO WORLD456’\n",
    "#o/p:’321hEllO wOrld654’"
   ]
  },
  {
   "cell_type": "code",
   "execution_count": 24,
   "metadata": {},
   "outputs": [
    {
     "name": "stdout",
     "output_type": "stream",
     "text": [
      "123*E**O *O***456\n"
     ]
    }
   ],
   "source": [
    "# 81. #I/p:’123HELLO WORLD456’\n",
    "#o/p:’123*E**O *O***456’\n",
    "\n",
    "st='123HELLO WORLD456'\n",
    "res=''\n",
    "for i in st:\n",
    "    if i not in 'aeiouAEIOU' and 'A'<=i<='Z':\n",
    "        res+='*'\n",
    "    else:\n",
    "        res+=i\n",
    "print(res)\n"
   ]
  },
  {
   "cell_type": "code",
   "execution_count": 47,
   "metadata": {},
   "outputs": [
    {
     "name": "stdout",
     "output_type": "stream",
     "text": [
      "*\n"
     ]
    }
   ],
   "source": [
    "# 82. #I/p:’HELLOWORLD’\n",
    "#o/p:’h$ll*w*rld’\n",
    "\n",
    "st='HELLO WORLD'\n",
    "res=''\n",
    "for i in st:\n",
    "    if not 'aeiouAEIOU' and 'A'<=i<='Z':\n",
    "        res=chr(ord(i)+32)\n",
    "    elif 'aeiouAEIOU' and 'A'<=i<='Z':\n",
    "        res='*'\n",
    "print(res)"
   ]
  },
  {
   "cell_type": "code",
   "execution_count": 3,
   "metadata": {},
   "outputs": [
    {
     "name": "stdout",
     "output_type": "stream",
     "text": [
      "axbycz\n"
     ]
    }
   ],
   "source": [
    "# 83. i/p: ‘abc’\n",
    "#i/p: ‘xyz’\n",
    "#o/p:’axbycz’\n",
    "\n",
    "s1='abc'\n",
    "s2='xyz'\n",
    "i=0\n",
    "res=''\n",
    "while(i<len(s1)) or (i<len(s2)):\n",
    "    if (i<len(s1)):\n",
    "        res+=s1[i]\n",
    "    if (i<len(s2)):\n",
    "        res+=s2[i]\n",
    "    i+=1\n",
    "print(res)"
   ]
  },
  {
   "cell_type": "code",
   "execution_count": 4,
   "metadata": {},
   "outputs": [
    {
     "name": "stdout",
     "output_type": "stream",
     "text": [
      "axbyczw\n"
     ]
    }
   ],
   "source": [
    "# 84. i/p: ‘abc’\n",
    "#i/p: ‘xyzw’\n",
    "#o/p:’axbyczw’\n",
    "\n",
    "s1='abc'\n",
    "s2='xyzw'\n",
    "i=0\n",
    "res=''\n",
    "while(i<len(s1)) or (i<len(s2)):\n",
    "    if (i<len(s1)):\n",
    "        res+=s1[i]\n",
    "    if (i<len(s2)):\n",
    "        res+=s2[i]\n",
    "    i+=1\n",
    "print(res)"
   ]
  },
  {
   "cell_type": "code",
   "execution_count": 5,
   "metadata": {},
   "outputs": [
    {
     "name": "stdout",
     "output_type": "stream",
     "text": [
      "axbyczd\n"
     ]
    }
   ],
   "source": [
    "#85. i/p: ‘abcd’\n",
    "#i/p: ‘xyz’\n",
    "#o/p:’axbyczd’\n",
    "\n",
    "s1='abcd'\n",
    "s2='xyz'\n",
    "i=0\n",
    "res=''\n",
    "while(i<len(s1)) or (i<len(s2)):\n",
    "    if (i<len(s1)):\n",
    "        res+=s1[i]\n",
    "    if (i<len(s2)):\n",
    "        res+=s2[i]\n",
    "    i+=1\n",
    "print(res)\n"
   ]
  },
  {
   "cell_type": "code",
   "execution_count": 6,
   "metadata": {},
   "outputs": [
    {
     "name": "stdout",
     "output_type": "stream",
     "text": [
      "axbyczwop\n"
     ]
    }
   ],
   "source": [
    "# 86. i/p: ‘abc’\n",
    "#i/p: ‘xyzwop’\n",
    "#o/p:’axbyczwop’\n",
    "\n",
    "s1='abc'\n",
    "s2='xyzwop'\n",
    "i=0\n",
    "res=''\n",
    "while(i<len(s1)) or (i<len(s2)):\n",
    "    if (i<len(s1)):\n",
    "        res+=s1[i]\n",
    "    if (i<len(s2)):\n",
    "        res+=s2[i]\n",
    "    i+=1\n",
    "print(res)\n"
   ]
  },
  {
   "cell_type": "code",
   "execution_count": 13,
   "metadata": {},
   "outputs": [
    {
     "name": "stdout",
     "output_type": "stream",
     "text": [
      "a1b2c3\n"
     ]
    }
   ],
   "source": [
    "# 87. i/p:’abc123’\n",
    "# o/p:’a1b2c3’\n",
    "\n",
    "st='abc123'\n",
    "p=''\n",
    "q=''\n",
    "for i in st:\n",
    "    if 'a'<=i<='z':\n",
    "        p+=i\n",
    "    if '0'<=i<='9':\n",
    "        q+=i\n",
    "i=0\n",
    "res=''\n",
    "while (i<len(p)) or (i<len(q)):\n",
    "    if (i<len(p)) :\n",
    "        res+=p[i]\n",
    "    if (i<len(q)):\n",
    "        res+=q[i]\n",
    "    i+=1\n",
    "print(res)"
   ]
  },
  {
   "cell_type": "code",
   "execution_count": 14,
   "metadata": {},
   "outputs": [
    {
     "name": "stdout",
     "output_type": "stream",
     "text": [
      "a1b2c\n"
     ]
    }
   ],
   "source": [
    "# 88. i/p:’abc12’\n",
    "# o/p:’a1b2c’\n",
    "\n",
    "st='abc12'\n",
    "p=''\n",
    "q=''\n",
    "for i in st:\n",
    "    if 'a'<=i<='z':\n",
    "        p+=i\n",
    "    if '0'<=i<='9':\n",
    "        q+=i\n",
    "i=0\n",
    "res=''\n",
    "while (i<len(p)) or (i<len(q)):\n",
    "    if (i<len(p)) :\n",
    "        res+=p[i]\n",
    "    if (i<len(q)):\n",
    "        res+=q[i]\n",
    "    i+=1\n",
    "print(res)"
   ]
  },
  {
   "cell_type": "code",
   "execution_count": 15,
   "metadata": {},
   "outputs": [
    {
     "name": "stdout",
     "output_type": "stream",
     "text": [
      "a1b2c34\n"
     ]
    }
   ],
   "source": [
    "# 89. i/p: ‘abc1234’\n",
    "# o/p: ‘a1b2c34’\n",
    "\n",
    "st='abc1234'\n",
    "p=''\n",
    "q=''\n",
    "for i in st:\n",
    "    if 'a'<=i<='z':\n",
    "        p+=i\n",
    "    if '0'<=i<='9':\n",
    "        q+=i\n",
    "i=0\n",
    "res=''\n",
    "while (i<len(p)) or (i<len(q)):\n",
    "    if (i<len(p)) :\n",
    "        res+=p[i]\n",
    "    if (i<len(q)):\n",
    "        res+=q[i]\n",
    "    i+=1\n",
    "print(res)"
   ]
  },
  {
   "cell_type": "code",
   "execution_count": 16,
   "metadata": {},
   "outputs": [
    {
     "name": "stdout",
     "output_type": "stream",
     "text": [
      "a1b2c34\n"
     ]
    }
   ],
   "source": [
    "# 90. i/p: ‘1a2bc34’\n",
    "# o/p:’a1b2c34’\n",
    "\n",
    "st='1a2b3c4'\n",
    "p=''\n",
    "q=''\n",
    "for i in st:\n",
    "    if 'a'<=i<='z':\n",
    "        p+=i\n",
    "    if '0'<=i<='9':\n",
    "        q+=i\n",
    "i=0\n",
    "res=''\n",
    "while (i<len(p)) or (i<len(q)):\n",
    "    if (i<len(p)) :\n",
    "        res+=p[i]\n",
    "    if (i<len(q)):\n",
    "        res+=q[i]\n",
    "    i+=1\n",
    "print(res)\n"
   ]
  },
  {
   "cell_type": "code",
   "execution_count": null,
   "metadata": {},
   "outputs": [],
   "source": []
  },
  {
   "cell_type": "code",
   "execution_count": null,
   "metadata": {},
   "outputs": [],
   "source": []
  },
  {
   "cell_type": "code",
   "execution_count": null,
   "metadata": {},
   "outputs": [],
   "source": []
  }
 ],
 "metadata": {
  "kernelspec": {
   "display_name": "Python 3",
   "language": "python",
   "name": "python3"
  },
  "language_info": {
   "codemirror_mode": {
    "name": "ipython",
    "version": 3
   },
   "file_extension": ".py",
   "mimetype": "text/x-python",
   "name": "python",
   "nbconvert_exporter": "python",
   "pygments_lexer": "ipython3",
   "version": "3.11.4"
  },
  "orig_nbformat": 4
 },
 "nbformat": 4,
 "nbformat_minor": 2
}
